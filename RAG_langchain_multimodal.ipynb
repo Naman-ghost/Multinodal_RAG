{
  "cells": [
    {
      "cell_type": "markdown",
      "id": "812a4dbc-fe04-4b84-bdf9-390045e30806",
      "metadata": {
        "id": "812a4dbc-fe04-4b84-bdf9-390045e30806"
      },
      "source": [
        "# Multi-modal RAG with LangChain"
      ]
    },
    {
      "cell_type": "code",
      "execution_count": 1,
      "id": "133b74f6",
      "metadata": {
        "colab": {
          "base_uri": "https://localhost:8080/"
        },
        "id": "133b74f6",
        "outputId": "48bb5dc0-8a05-4941-b539-71269b981921"
      },
      "outputs": [
        {
          "name": "stdout",
          "output_type": "stream",
          "text": [
            "Reading package lists... Done\n",
            "Building dependency tree... Done\n",
            "Reading state information... Done\n",
            "tesseract-ocr is already the newest version (4.1.1-2.1build1).\n",
            "The following NEW packages will be installed:\n",
            "  libmagic-dev poppler-utils\n",
            "0 upgraded, 2 newly installed, 0 to remove and 34 not upgraded.\n",
            "Need to get 291 kB of archives.\n",
            "After this operation, 1,086 kB of additional disk space will be used.\n",
            "Get:1 http://archive.ubuntu.com/ubuntu jammy-updates/main amd64 libmagic-dev amd64 1:5.41-3ubuntu0.1 [105 kB]\n",
            "Get:2 http://archive.ubuntu.com/ubuntu jammy-updates/main amd64 poppler-utils amd64 22.02.0-2ubuntu0.8 [186 kB]\n",
            "Fetched 291 kB in 10s (27.9 kB/s)\n",
            "Selecting previously unselected package libmagic-dev:amd64.\n",
            "(Reading database ... 126101 files and directories currently installed.)\n",
            "Preparing to unpack .../libmagic-dev_1%3a5.41-3ubuntu0.1_amd64.deb ...\n",
            "Unpacking libmagic-dev:amd64 (1:5.41-3ubuntu0.1) ...\n",
            "Selecting previously unselected package poppler-utils.\n",
            "Preparing to unpack .../poppler-utils_22.02.0-2ubuntu0.8_amd64.deb ...\n",
            "Unpacking poppler-utils (22.02.0-2ubuntu0.8) ...\n",
            "Setting up libmagic-dev:amd64 (1:5.41-3ubuntu0.1) ...\n",
            "Setting up poppler-utils (22.02.0-2ubuntu0.8) ...\n",
            "Processing triggers for man-db (2.10.2-1) ...\n"
          ]
        }
      ],
      "source": [
        "# for linux\n",
        "!apt-get install poppler-utils tesseract-ocr libmagic-dev\n",
        "\n",
        "# for mac\n",
        "# !brew install poppler tesseract libmagic\n",
        "# %pip install poppler tesseract libmagic"
      ]
    },
    {
      "cell_type": "code",
      "execution_count": 2,
      "id": "2nDWBTrhn-_M",
      "metadata": {
        "colab": {
          "base_uri": "https://localhost:8080/"
        },
        "id": "2nDWBTrhn-_M",
        "outputId": "4b0ae334-f0e6-4f45-f8a7-9c1aeae3266e"
      },
      "outputs": [
        {
          "name": "stdout",
          "output_type": "stream",
          "text": [
            "\u001b[?25l     \u001b[90m━━━━━━━━━━━━━━━━━━━━━━━━━━━━━━━━━━━━━━━━\u001b[0m \u001b[32m0.0/981.5 kB\u001b[0m \u001b[31m?\u001b[0m eta \u001b[36m-:--:--\u001b[0m\r\u001b[2K     \u001b[91m━━━━━━━━━━━━━━━━━━━━━━━━━━━━━━━━━━━━━\u001b[0m\u001b[91m╸\u001b[0m \u001b[32m972.8/981.5 kB\u001b[0m \u001b[31m32.8 MB/s\u001b[0m eta \u001b[36m0:00:01\u001b[0m\r\u001b[2K     \u001b[90m━━━━━━━━━━━━━━━━━━━━━━━━━━━━━━━━━━━━━━\u001b[0m \u001b[32m981.5/981.5 kB\u001b[0m \u001b[31m23.4 MB/s\u001b[0m eta \u001b[36m0:00:00\u001b[0m\n",
            "\u001b[?25h  Preparing metadata (setup.py) ... \u001b[?25l\u001b[?25hdone\n",
            "\u001b[2K     \u001b[90m━━━━━━━━━━━━━━━━━━━━━━━━━━━━━━━━━━━━━━━━\u001b[0m \u001b[32m48.2/48.2 kB\u001b[0m \u001b[31m4.2 MB/s\u001b[0m eta \u001b[36m0:00:00\u001b[0m\n",
            "\u001b[2K     \u001b[90m━━━━━━━━━━━━━━━━━━━━━━━━━━━━━━━━━━━━━━\u001b[0m \u001b[32m117.0/117.0 kB\u001b[0m \u001b[31m12.3 MB/s\u001b[0m eta \u001b[36m0:00:00\u001b[0m\n",
            "\u001b[?25h  Preparing metadata (setup.py) ... \u001b[?25l\u001b[?25hdone\n",
            "\u001b[2K   \u001b[90m━━━━━━━━━━━━━━━━━━━━━━━━━━━━━━━━━━━━━━━━\u001b[0m \u001b[32m16.0/16.0 MB\u001b[0m \u001b[31m114.4 MB/s\u001b[0m eta \u001b[36m0:00:00\u001b[0m\n",
            "\u001b[2K   \u001b[90m━━━━━━━━━━━━━━━━━━━━━━━━━━━━━━━━━━━━━━━━\u001b[0m \u001b[32m16.0/16.0 MB\u001b[0m \u001b[31m116.6 MB/s\u001b[0m eta \u001b[36m0:00:00\u001b[0m\n",
            "\u001b[2K   \u001b[90m━━━━━━━━━━━━━━━━━━━━━━━━━━━━━━━━━━━━━━━━\u001b[0m \u001b[32m244.3/244.3 kB\u001b[0m \u001b[31m22.9 MB/s\u001b[0m eta \u001b[36m0:00:00\u001b[0m\n",
            "\u001b[2K   \u001b[90m━━━━━━━━━━━━━━━━━━━━━━━━━━━━━━━━━━━━━━━━\u001b[0m \u001b[32m472.8/472.8 kB\u001b[0m \u001b[31m43.7 MB/s\u001b[0m eta \u001b[36m0:00:00\u001b[0m\n",
            "\u001b[2K   \u001b[90m━━━━━━━━━━━━━━━━━━━━━━━━━━━━━━━━━━━━━━━━\u001b[0m \u001b[32m48.9/48.9 kB\u001b[0m \u001b[31m4.7 MB/s\u001b[0m eta \u001b[36m0:00:00\u001b[0m\n",
            "\u001b[2K   \u001b[90m━━━━━━━━━━━━━━━━━━━━━━━━━━━━━━━━━━━━━━━━\u001b[0m \u001b[32m112.5/112.5 kB\u001b[0m \u001b[31m11.6 MB/s\u001b[0m eta \u001b[36m0:00:00\u001b[0m\n",
            "\u001b[2K   \u001b[90m━━━━━━━━━━━━━━━━━━━━━━━━━━━━━━━━━━━━━━━━\u001b[0m \u001b[32m590.6/590.6 kB\u001b[0m \u001b[31m49.2 MB/s\u001b[0m eta \u001b[36m0:00:00\u001b[0m\n",
            "\u001b[2K   \u001b[90m━━━━━━━━━━━━━━━━━━━━━━━━━━━━━━━━━━━━━━━━\u001b[0m \u001b[32m526.1/526.1 kB\u001b[0m \u001b[31m41.5 MB/s\u001b[0m eta \u001b[36m0:00:00\u001b[0m\n",
            "\u001b[2K   \u001b[90m━━━━━━━━━━━━━━━━━━━━━━━━━━━━━━━━━━━━━━━━\u001b[0m \u001b[32m5.6/5.6 MB\u001b[0m \u001b[31m120.6 MB/s\u001b[0m eta \u001b[36m0:00:00\u001b[0m\n",
            "\u001b[2K   \u001b[90m━━━━━━━━━━━━━━━━━━━━━━━━━━━━━━━━━━━━━━━━\u001b[0m \u001b[32m1.2/1.2 MB\u001b[0m \u001b[31m72.3 MB/s\u001b[0m eta \u001b[36m0:00:00\u001b[0m\n",
            "\u001b[2K   \u001b[90m━━━━━━━━━━━━━━━━━━━━━━━━━━━━━━━━━━━━━━━━\u001b[0m \u001b[32m2.4/2.4 MB\u001b[0m \u001b[31m85.6 MB/s\u001b[0m eta \u001b[36m0:00:00\u001b[0m\n",
            "\u001b[2K   \u001b[90m━━━━━━━━━━━━━━━━━━━━━━━━━━━━━━━━━━━━━━━━\u001b[0m \u001b[32m302.3/302.3 kB\u001b[0m \u001b[31m29.2 MB/s\u001b[0m eta \u001b[36m0:00:00\u001b[0m\n",
            "\u001b[2K   \u001b[90m━━━━━━━━━━━━━━━━━━━━━━━━━━━━━━━━━━━━━━━━\u001b[0m \u001b[32m167.6/167.6 kB\u001b[0m \u001b[31m16.5 MB/s\u001b[0m eta \u001b[36m0:00:00\u001b[0m\n",
            "\u001b[2K   \u001b[90m━━━━━━━━━━━━━━━━━━━━━━━━━━━━━━━━━━━━━━━━\u001b[0m \u001b[32m3.1/3.1 MB\u001b[0m \u001b[31m108.0 MB/s\u001b[0m eta \u001b[36m0:00:00\u001b[0m\n",
            "\u001b[2K   \u001b[90m━━━━━━━━━━━━━━━━━━━━━━━━━━━━━━━━━━━━━━━━\u001b[0m \u001b[32m1.8/1.8 MB\u001b[0m \u001b[31m90.8 MB/s\u001b[0m eta \u001b[36m0:00:00\u001b[0m\n",
            "\u001b[2K   \u001b[90m━━━━━━━━━━━━━━━━━━━━━━━━━━━━━━━━━━━━━━━━\u001b[0m \u001b[32m189.4/189.4 kB\u001b[0m \u001b[31m19.4 MB/s\u001b[0m eta \u001b[36m0:00:00\u001b[0m\n",
            "\u001b[2K   \u001b[90m━━━━━━━━━━━━━━━━━━━━━━━━━━━━━━━━━━━━━━━━\u001b[0m \u001b[32m50.9/50.9 kB\u001b[0m \u001b[31m5.0 MB/s\u001b[0m eta \u001b[36m0:00:00\u001b[0m\n",
            "\u001b[2K   \u001b[90m━━━━━━━━━━━━━━━━━━━━━━━━━━━━━━━━━━━━━━━━\u001b[0m \u001b[32m79.5/79.5 kB\u001b[0m \u001b[31m7.8 MB/s\u001b[0m eta \u001b[36m0:00:00\u001b[0m\n",
            "\u001b[2K   \u001b[90m━━━━━━━━━━━━━━━━━━━━━━━━━━━━━━━━━━━━━━━━\u001b[0m \u001b[32m363.4/363.4 MB\u001b[0m \u001b[31m3.8 MB/s\u001b[0m eta \u001b[36m0:00:00\u001b[0m\n",
            "\u001b[2K   \u001b[90m━━━━━━━━━━━━━━━━━━━━━━━━━━━━━━━━━━━━━━━━\u001b[0m \u001b[32m13.8/13.8 MB\u001b[0m \u001b[31m89.6 MB/s\u001b[0m eta \u001b[36m0:00:00\u001b[0m\n",
            "\u001b[2K   \u001b[90m━━━━━━━━━━━━━━━━━━━━━━━━━━━━━━━━━━━━━━━━\u001b[0m \u001b[32m24.6/24.6 MB\u001b[0m \u001b[31m71.5 MB/s\u001b[0m eta \u001b[36m0:00:00\u001b[0m\n",
            "\u001b[2K   \u001b[90m━━━━━━━━━━━━━━━━━━━━━━━━━━━━━━━━━━━━━━━━\u001b[0m \u001b[32m883.7/883.7 kB\u001b[0m \u001b[31m54.5 MB/s\u001b[0m eta \u001b[36m0:00:00\u001b[0m\n",
            "\u001b[2K   \u001b[90m━━━━━━━━━━━━━━━━━━━━━━━━━━━━━━━━━━━━━━━\u001b[0m \u001b[32m664.8/664.8 MB\u001b[0m \u001b[31m890.5 kB/s\u001b[0m eta \u001b[36m0:00:00\u001b[0m\n",
            "\u001b[2K   \u001b[90m━━━━━━━━━━━━━━━━━━━━━━━━━━━━━━━━━━━━━━━━\u001b[0m \u001b[32m211.5/211.5 MB\u001b[0m \u001b[31m5.9 MB/s\u001b[0m eta \u001b[36m0:00:00\u001b[0m\n",
            "\u001b[2K   \u001b[90m━━━━━━━━━━━━━━━━━━━━━━━━━━━━━━━━━━━━━━━━\u001b[0m \u001b[32m56.3/56.3 MB\u001b[0m \u001b[31m13.3 MB/s\u001b[0m eta \u001b[36m0:00:00\u001b[0m\n",
            "\u001b[2K   \u001b[90m━━━━━━━━━━━━━━━━━━━━━━━━━━━━━━━━━━━━━━━━\u001b[0m \u001b[32m127.9/127.9 MB\u001b[0m \u001b[31m7.3 MB/s\u001b[0m eta \u001b[36m0:00:00\u001b[0m\n",
            "\u001b[2K   \u001b[90m━━━━━━━━━━━━━━━━━━━━━━━━━━━━━━━━━━━━━━━━\u001b[0m \u001b[32m207.5/207.5 MB\u001b[0m \u001b[31m5.9 MB/s\u001b[0m eta \u001b[36m0:00:00\u001b[0m\n",
            "\u001b[2K   \u001b[90m━━━━━━━━━━━━━━━━━━━━━━━━━━━━━━━━━━━━━━━━\u001b[0m \u001b[32m21.1/21.1 MB\u001b[0m \u001b[31m41.7 MB/s\u001b[0m eta \u001b[36m0:00:00\u001b[0m\n",
            "\u001b[2K   \u001b[90m━━━━━━━━━━━━━━━━━━━━━━━━━━━━━━━━━━━━━━━━\u001b[0m \u001b[32m169.4/169.4 kB\u001b[0m \u001b[31m15.8 MB/s\u001b[0m eta \u001b[36m0:00:00\u001b[0m\n",
            "\u001b[2K   \u001b[90m━━━━━━━━━━━━━━━━━━━━━━━━━━━━━━━━━━━━━━━━\u001b[0m \u001b[32m46.0/46.0 kB\u001b[0m \u001b[31m4.4 MB/s\u001b[0m eta \u001b[36m0:00:00\u001b[0m\n",
            "\u001b[2K   \u001b[90m━━━━━━━━━━━━━━━━━━━━━━━━━━━━━━━━━━━━━━━━\u001b[0m \u001b[32m114.6/114.6 kB\u001b[0m \u001b[31m11.6 MB/s\u001b[0m eta \u001b[36m0:00:00\u001b[0m\n",
            "\u001b[2K   \u001b[90m━━━━━━━━━━━━━━━━━━━━━━━━━━━━━━━━━━━━━━━━\u001b[0m \u001b[32m2.9/2.9 MB\u001b[0m \u001b[31m98.6 MB/s\u001b[0m eta \u001b[36m0:00:00\u001b[0m\n",
            "\u001b[2K   \u001b[90m━━━━━━━━━━━━━━━━━━━━━━━━━━━━━━━━━━━━━━━━\u001b[0m \u001b[32m86.8/86.8 kB\u001b[0m \u001b[31m9.2 MB/s\u001b[0m eta \u001b[36m0:00:00\u001b[0m\n",
            "\u001b[?25h  Building wheel for langdetect (setup.py) ... \u001b[?25l\u001b[?25hdone\n",
            "  Building wheel for antlr4-python3-runtime (setup.py) ... \u001b[?25l\u001b[?25hdone\n",
            "\u001b[2K     \u001b[90m━━━━━━━━━━━━━━━━━━━━━━━━━━━━━━━━━━━━━━━━\u001b[0m \u001b[32m67.3/67.3 kB\u001b[0m \u001b[31m6.1 MB/s\u001b[0m eta \u001b[36m0:00:00\u001b[0m\n",
            "\u001b[?25h  Installing build dependencies ... \u001b[?25l\u001b[?25hdone\n",
            "  Getting requirements to build wheel ... \u001b[?25l\u001b[?25hdone\n",
            "  Preparing metadata (pyproject.toml) ... \u001b[?25l\u001b[?25hdone\n",
            "\u001b[2K   \u001b[90m━━━━━━━━━━━━━━━━━━━━━━━━━━━━━━━━━━━━━━━━\u001b[0m \u001b[32m18.9/18.9 MB\u001b[0m \u001b[31m91.7 MB/s\u001b[0m eta \u001b[36m0:00:00\u001b[0m\n",
            "\u001b[2K   \u001b[90m━━━━━━━━━━━━━━━━━━━━━━━━━━━━━━━━━━━━━━━━\u001b[0m \u001b[32m94.9/94.9 kB\u001b[0m \u001b[31m9.7 MB/s\u001b[0m eta \u001b[36m0:00:00\u001b[0m\n",
            "\u001b[2K   \u001b[90m━━━━━━━━━━━━━━━━━━━━━━━━━━━━━━━━━━━━━━━━\u001b[0m \u001b[32m1.2/1.2 MB\u001b[0m \u001b[31m72.6 MB/s\u001b[0m eta \u001b[36m0:00:00\u001b[0m\n",
            "\u001b[2K   \u001b[90m━━━━━━━━━━━━━━━━━━━━━━━━━━━━━━━━━━━━━━━━\u001b[0m \u001b[32m284.2/284.2 kB\u001b[0m \u001b[31m28.6 MB/s\u001b[0m eta \u001b[36m0:00:00\u001b[0m\n",
            "\u001b[2K   \u001b[90m━━━━━━━━━━━━━━━━━━━━━━━━━━━━━━━━━━━━━━━━\u001b[0m \u001b[32m2.0/2.0 MB\u001b[0m \u001b[31m95.8 MB/s\u001b[0m eta \u001b[36m0:00:00\u001b[0m\n",
            "\u001b[2K   \u001b[90m━━━━━━━━━━━━━━━━━━━━━━━━━━━━━━━━━━━━━━━━\u001b[0m \u001b[32m101.6/101.6 kB\u001b[0m \u001b[31m11.1 MB/s\u001b[0m eta \u001b[36m0:00:00\u001b[0m\n",
            "\u001b[2K   \u001b[90m━━━━━━━━━━━━━━━━━━━━━━━━━━━━━━━━━━━━━━━━\u001b[0m \u001b[32m55.9/55.9 kB\u001b[0m \u001b[31m5.8 MB/s\u001b[0m eta \u001b[36m0:00:00\u001b[0m\n",
            "\u001b[2K   \u001b[90m━━━━━━━━━━━━━━━━━━━━━━━━━━━━━━━━━━━━━━━━\u001b[0m \u001b[32m188.4/188.4 kB\u001b[0m \u001b[31m18.8 MB/s\u001b[0m eta \u001b[36m0:00:00\u001b[0m\n",
            "\u001b[2K   \u001b[90m━━━━━━━━━━━━━━━━━━━━━━━━━━━━━━━━━━━━━━━━\u001b[0m \u001b[32m65.3/65.3 kB\u001b[0m \u001b[31m6.8 MB/s\u001b[0m eta \u001b[36m0:00:00\u001b[0m\n",
            "\u001b[2K   \u001b[90m━━━━━━━━━━━━━━━━━━━━━━━━━━━━━━━━━━━━━━━━\u001b[0m \u001b[32m119.0/119.0 kB\u001b[0m \u001b[31m12.2 MB/s\u001b[0m eta \u001b[36m0:00:00\u001b[0m\n",
            "\u001b[2K   \u001b[90m━━━━━━━━━━━━━━━━━━━━━━━━━━━━━━━━━━━━━━━━\u001b[0m \u001b[32m92.0/92.0 kB\u001b[0m \u001b[31m9.0 MB/s\u001b[0m eta \u001b[36m0:00:00\u001b[0m\n",
            "\u001b[2K   \u001b[90m━━━━━━━━━━━━━━━━━━━━━━━━━━━━━━━━━━━━━━━━\u001b[0m \u001b[32m62.5/62.5 kB\u001b[0m \u001b[31m6.9 MB/s\u001b[0m eta \u001b[36m0:00:00\u001b[0m\n",
            "\u001b[2K   \u001b[90m━━━━━━━━━━━━━━━━━━━━━━━━━━━━━━━━━━━━━━━━\u001b[0m \u001b[32m459.8/459.8 kB\u001b[0m \u001b[31m39.0 MB/s\u001b[0m eta \u001b[36m0:00:00\u001b[0m\n",
            "\u001b[2K   \u001b[90m━━━━━━━━━━━━━━━━━━━━━━━━━━━━━━━━━━━━━━━━\u001b[0m \u001b[32m71.5/71.5 kB\u001b[0m \u001b[31m7.4 MB/s\u001b[0m eta \u001b[36m0:00:00\u001b[0m\n",
            "\u001b[2K   \u001b[90m━━━━━━━━━━━━━━━━━━━━━━━━━━━━━━━━━━━━━━━━\u001b[0m \u001b[32m4.0/4.0 MB\u001b[0m \u001b[31m75.7 MB/s\u001b[0m eta \u001b[36m0:00:00\u001b[0m\n",
            "\u001b[2K   \u001b[90m━━━━━━━━━━━━━━━━━━━━━━━━━━━━━━━━━━━━━━━━\u001b[0m \u001b[32m454.8/454.8 kB\u001b[0m \u001b[31m39.0 MB/s\u001b[0m eta \u001b[36m0:00:00\u001b[0m\n",
            "\u001b[?25h  Building wheel for pypika (pyproject.toml) ... \u001b[?25l\u001b[?25hdone\n",
            "\u001b[2K   \u001b[90m━━━━━━━━━━━━━━━━━━━━━━━━━━━━━━━━━━━━━━━━\u001b[0m \u001b[32m1.0/1.0 MB\u001b[0m \u001b[31m23.9 MB/s\u001b[0m eta \u001b[36m0:00:00\u001b[0m\n",
            "\u001b[2K   \u001b[90m━━━━━━━━━━━━━━━━━━━━━━━━━━━━━━━━━━━━━━━━\u001b[0m \u001b[32m2.5/2.5 MB\u001b[0m \u001b[31m96.9 MB/s\u001b[0m eta \u001b[36m0:00:00\u001b[0m\n",
            "\u001b[2K   \u001b[90m━━━━━━━━━━━━━━━━━━━━━━━━━━━━━━━━━━━━━━━━\u001b[0m \u001b[32m62.8/62.8 kB\u001b[0m \u001b[31m6.3 MB/s\u001b[0m eta \u001b[36m0:00:00\u001b[0m\n",
            "\u001b[2K   \u001b[90m━━━━━━━━━━━━━━━━━━━━━━━━━━━━━━━━━━━━━━━━\u001b[0m \u001b[32m127.5/127.5 kB\u001b[0m \u001b[31m13.3 MB/s\u001b[0m eta \u001b[36m0:00:00\u001b[0m\n",
            "\u001b[2K   \u001b[90m━━━━━━━━━━━━━━━━━━━━━━━━━━━━━━━━━━━━━━━━\u001b[0m \u001b[32m437.6/437.6 kB\u001b[0m \u001b[31m38.9 MB/s\u001b[0m eta \u001b[36m0:00:00\u001b[0m\n",
            "\u001b[2K   \u001b[90m━━━━━━━━━━━━━━━━━━━━━━━━━━━━━━━━━━━━━━━━\u001b[0m \u001b[32m44.4/44.4 kB\u001b[0m \u001b[31m4.1 MB/s\u001b[0m eta \u001b[36m0:00:00\u001b[0m\n",
            "\u001b[?25h"
          ]
        }
      ],
      "source": [
        "%pip install -Uq \"unstructured[all-docs]\" pillow lxml pillow\n",
        "%pip install -Uq chromadb tiktoken\n",
        "%pip install -Uq langchain langchain-community langchain-openai langchain-groq\n",
        "%pip install -Uq python_dotenv\n"
      ]
    },
    {
      "cell_type": "code",
      "execution_count": null,
      "id": "91106e31",
      "metadata": {
        "id": "91106e31"
      },
      "outputs": [],
      "source": [
        "import os\n",
        "\n",
        "# keys for the services we will use\n",
        "\n",
        "os.environ[\"OPENAI_API_KEY\"] = \"\"\n",
        "os.environ[\"GROQ_API_KEY\"] = \"\"\n",
        "os.environ[\"LANGCHAIN_API_KEY\"] = \"lsv2\"\n",
        "os.environ[\"LANGCHAIN_TRACING_V2\"] = \"true\"\n"
      ]
    },
    {
      "cell_type": "markdown",
      "id": "74b56bde-1ba0-4525-a11d-cab02c5659e4",
      "metadata": {
        "id": "74b56bde-1ba0-4525-a11d-cab02c5659e4"
      },
      "source": [
        "## Extract the data\n",
        "\n",
        "Extract the elements of the PDF that we will be able to use in the retrieval process. These elements can be: Text, Images, Tables, etc."
      ]
    },
    {
      "cell_type": "markdown",
      "id": "e62ec070",
      "metadata": {
        "id": "e62ec070"
      },
      "source": [
        "### Partition PDF tables, text, and images"
      ]
    },
    {
      "cell_type": "code",
      "execution_count": 5,
      "id": "0a046528-8d22-4f4e-a520-962026562939",
      "metadata": {
        "colab": {
          "base_uri": "https://localhost:8080/",
          "height": 1000,
          "referenced_widgets": [
            "1aaf1127bb064b79bfc5d49efd9749df",
            "a775b6cace0b4c57b6bac97d4c0b87af",
            "33cb19f72480479bb61aa62aadcc1da7",
            "d0ace648785b4c04a626b73d9edea171",
            "6045984ca893489485524aa256e66f30",
            "997e5a8fbd634f4c9c539e30a6349af8",
            "c3e58a6fcd8e49689ca736d28d2176bb",
            "8c78486573ee4c4c8300e598fd04a2bd",
            "3ff90c7619d14d999a4dc2bb93b3f321",
            "8f2f555968284b4197d94085d23d56c2",
            "1dd8cd2ea485487f8afaf3f968ac81dc",
            "9f01abcbb7654cb894a452a316bed5fa",
            "1a4d37c6cb8c4add8000b4243db4d7f9",
            "eeb4c42f9c954ef8a2e00297e0324c06",
            "1c5f8980680e49b8b68c0a78eabdf81b",
            "ed90ef792cb54e3a9ed7a66c33fa52b5",
            "22bc539f7a614399bdcb55216096e19f",
            "2935bcda938048718b89a2661a7c513e",
            "66414c4c7e4b42019d4852058c835b1f",
            "81f160dfbe0b45ceaced2c8b92e9627a",
            "9d7ed28510404583a184eec67c838c46",
            "b728e1c5694c47c6be699bebb44fac83",
            "398df8ed401c4230befc0d614366f2a2",
            "274d165559194cacab25aa9a7a98ff4f",
            "cad6726de50c47c49d1db4cb9330381f",
            "08e77157728748319fad938c4dff70ee",
            "04f8b97788cf477ea30413460518b87e",
            "338a4e4505b347d3a0c5e18bc5d35fb1",
            "4cf6d18fc56249958835459a271c10ba",
            "5b5fff04f951420993b55b13a3c22297",
            "385730c57df84423869e2a07e91e6656",
            "b0fc2ea20bd14a549a129f4f607ba745",
            "e4a3cf4d468e49a8ac00e46639b4ba7a"
          ]
        },
        "id": "0a046528-8d22-4f4e-a520-962026562939",
        "outputId": "1cbaf3ca-5062-46ef-d5d0-3d03f56144b9",
        "scrolled": true
      },
      "outputs": [
        {
          "data": {
            "application/vnd.jupyter.widget-view+json": {
              "model_id": "1aaf1127bb064b79bfc5d49efd9749df",
              "version_major": 2,
              "version_minor": 0
            },
            "text/plain": [
              "config.json:   0%|          | 0.00/1.47k [00:00<?, ?B/s]"
            ]
          },
          "metadata": {},
          "output_type": "display_data"
        },
        {
          "name": "stderr",
          "output_type": "stream",
          "text": [
            "Xet Storage is enabled for this repo, but the 'hf_xet' package is not installed. Falling back to regular HTTP download. For better performance, install the package with: `pip install huggingface_hub[hf_xet]` or `pip install hf_xet`\n",
            "WARNING:huggingface_hub.file_download:Xet Storage is enabled for this repo, but the 'hf_xet' package is not installed. Falling back to regular HTTP download. For better performance, install the package with: `pip install huggingface_hub[hf_xet]` or `pip install hf_xet`\n"
          ]
        },
        {
          "data": {
            "application/vnd.jupyter.widget-view+json": {
              "model_id": "9f01abcbb7654cb894a452a316bed5fa",
              "version_major": 2,
              "version_minor": 0
            },
            "text/plain": [
              "model.safetensors:   0%|          | 0.00/115M [00:00<?, ?B/s]"
            ]
          },
          "metadata": {},
          "output_type": "display_data"
        },
        {
          "data": {
            "application/vnd.jupyter.widget-view+json": {
              "model_id": "398df8ed401c4230befc0d614366f2a2",
              "version_major": 2,
              "version_minor": 0
            },
            "text/plain": [
              "model.safetensors:   0%|          | 0.00/46.8M [00:00<?, ?B/s]"
            ]
          },
          "metadata": {},
          "output_type": "display_data"
        },
        {
          "name": "stdout",
          "output_type": "stream",
          "text": [
            "PHYSICS\n",
            "\n",
            "Kinematics\n",
            "\n",
            "Investigation Manual\n",
            "\n",
            "GARQLINA DISTANCE LEARNING\n",
            "\n",
            "KINEMATICS\n",
            "\n",
            "Table of Contents\n",
            "\n",
            "Overview Outcomes Time Requirements Background Materials Safety Preparation Technology Activity 1 9 Activity 2 11 Activity 3 15 Activity 4 16 Activity 5 17 Disposal and Cleanup 18 Observations ©} C|\n",
            "Background\n",
            "\n",
            "Mechanics is the branch of physics that studies the motion of objects and the forces and energies that affect those motions. Clas- sical mechanics refers to the motion of objects that are large (compared to subatomic particles) and slow (compared to the speed of light). The effects of qu\n",
            "Key\n",
            "\n",
            "Personal protective equipment A. (PPE) <p oe |\n",
            "\n",
            "= (O) |\n",
            "\n",
            "© | follow photograph link to results and — goggies gloves apron | video submit bo oS ©\n",
            "\n",
            "2 ©)\n",
            "\n",
            "stopwatch required\n",
            "\n",
            "warning corrosion flammable toxic environment health hazard\n",
            "\n",
            "continued on next page\n",
            "\n",
            "CAROLINA\n",
            "\n",
            "www.carolina.com/distancelea\n",
            "Figure 1.\n",
            "\n",
            "ee ees 6-5-4 -3 -2-1 012 34 5 6\n",
            "\n",
            "Figure 2.\n",
            "\n",
            "Figure 2.\n",
            "\n",
            "Figure 3.\n",
            "\n",
            "Figure 3.\n",
            "\n",
            "The arrows in Figures 2 and 3 represent displacement vectors for an object. The long lines represent a displacement with a magnitude of 5. This displacement vector can be resolved into two component vectors along\n",
            "KINEMATICS\n",
            "\n",
            "Background continued\n",
            "\n",
            "+ Recall that velocity (v) is the rate of change of the position of an object. For an object moving in the x direction, the magnitude of the velocity (speed) may be described as:\n",
            "\n",
            "ve X,—X, At\n",
            "\n",
            "In this equation, x, is the position at time t, and xX, is the position o\n",
            "Needed but not supplied:\n",
            "\n",
            "* Scientific or graphing calculator, or a computer with spreadsheet software (optional)\n",
            "\n",
            "+ Permanent marker\n",
            "\n",
            "+ Masking tape\n",
            "\n",
            "+ Digital camera or mobile device capable of recording video\n",
            "\n",
            "* Timer or stopwatch\n",
            "\n",
            "* Books\n",
            "\n",
            "* Pencil\n",
            "\n",
            "Reorder Information: Replacement supplies for \n",
            "* Hudl Technique\n",
            "\n",
            "iOS and Android (httos://www.hudl.com/ products/technique)\n",
            "\n",
            "* SloPro\n",
            "\n",
            "iOS (https://itunes.apple.com/us/app/slopro- 1000fps-slow-motion/id507232505?mt=8)\n",
            "\n",
            "Android (https://slopro.en.uptodown.com/ android)\n",
            "\n",
            "Or you may upload the video to your computer. Your operating system or softwa\n",
            "ACTIVITY\n",
            "\n",
            "ACTIVITY 2 continued\n",
            "\n",
            "3. Use a tape measure or ruler to measure a track 2 meters long. The track should be level and smooth with no obstructions. Make sure the surface of the track provides enough traction for the wheels to turn without slipping. Place masking tape across the track at 25-c\n",
            "Figure 4.\n",
            "\n",
            "v\n",
            "\n",
            "ty t t\n",
            "\n",
            "Note: To calculate the area of the rectangle, multiply the value for the time interval between time t=2s and timet= 4s by the velocity of the car. This area represents the displacement traveled by the object during this time interval.\n",
            "\n",
            "This technique is often referred to as cal\n",
            "© Finding an Equation for the Motion of an Object with Constant Acceleration (optional)\n",
            "\n",
            "1. The general form of a line is:\n",
            "\n",
            "y=mx+b\n",
            "\n",
            "In this equation, m is the slope of the line, and b is the y-intercept, or the point where the line crosses the y-axis. Because the first data point represents time zer\n",
            "ACTIVITY\n",
            "\n",
            "ACTIVITY 3 continued\n",
            "\n",
            "By definition, the shaded area is the displacement traveled by the object during the time interval:\n",
            "\n",
            "At = t,-t, a time _ displacement _ Ax At\n",
            "\n",
            "At = t,-t,\n",
            "\n",
            "Vv\n",
            "\n",
            "Ax =vAt\n",
            "\n",
            "5. lf an object has a constant acceleration, then by definition:\n",
            "\n",
            "v,—-V, At\n",
            "\n",
            "At or\n",
            "\n",
            "v, =adt+v,\n",
            "\n",
            "This\n",
            "a=0.71gsin0\n",
            "\n",
            "Find the trigonometric sin of an angle by measuring the angle with a protractor and using the “sin” function on a calculator or by simply dividing the length of the side opposite the angle (the height from which the sphere starts) by the length of the hypotenuse of the right triangle (t\n",
            "Table 2.\n",
            "\n",
            "Displacement (cm) 1 4 9 16 25 36 49 64 81\n",
            "\n",
            "continued on next page\n",
            "\n",
            "CAROLINA\n",
            "\n",
            "Figure 11.\n",
            "\n",
            "lle lela eel elated 81 SSS So Sees 6 | ee eeione sob ag aetsteeses 25 e a _— =r) | 9 t\n",
            "\n",
            "All distances\n",
            "\n",
            "are d fom the same start point.\n",
            "\n",
            "7. Place rubber bands on the foam board, covering the pencil line\n",
            "Title:\n",
            "\n",
            "(sixe-A) jaqey\n",
            "\n",
            "Label (x-axis):\n",
            "\n",
            "CAROLINA\n",
            "\n",
            "19 www.carolina.com/distancelearning\n",
            "\n",
            "Carolina Biological Supply Company\n",
            "\n",
            "www.carolina.com ¢ 800.334.5551 ©2019 Carolina Biological Supply Company\n",
            "\n",
            "CB700901909 V2.1\n",
            "\n",
            "PHYSICS\n",
            "\n",
            "Kinematics Investigation Manual\n",
            "\n",
            "www.carolina.com/distancelearning\n",
            "\n",
            "866.33\n"
          ]
        }
      ],
      "source": [
        "import requests\n",
        "from pathlib import Path\n",
        "from unstructured.partition.pdf import partition_pdf\n",
        "\n",
        "# Create content directory if it doesn't exist\n",
        "output_path = Path(\"./content/\")\n",
        "output_path.mkdir(parents=True, exist_ok=True)\n",
        "\n",
        "# Download the PDF\n",
        "url = \"https://www.uvm.edu/~ldonfort/P21S20/2_Kinematics.pdf\"\n",
        "file_path = output_path / \"2_Kinematics.pdf\"\n",
        "\n",
        "response = requests.get(url)\n",
        "with open(file_path, \"wb\") as f:\n",
        "    f.write(response.content)\n",
        "\n",
        "# Now use partition_pdf\n",
        "chunks = partition_pdf(\n",
        "    filename=str(file_path),\n",
        "    infer_table_structure=True,\n",
        "    strategy=\"hi_res\",\n",
        "    extract_image_block_types=[\"Image\"],\n",
        "    extract_image_block_to_payload=True,\n",
        "    chunking_strategy=\"by_title\",\n",
        "    max_characters=10000,\n",
        "    combine_text_under_n_chars=2000,\n",
        "    new_after_n_chars=6000,\n",
        ")\n",
        "\n",
        "# Example: print the text from each chunk\n",
        "for chunk in chunks:\n",
        "    print(chunk.text[:300])  # Print first 300 characters of each chunk\n"
      ]
    },
    {
      "cell_type": "code",
      "execution_count": 6,
      "id": "038f6733",
      "metadata": {
        "colab": {
          "base_uri": "https://localhost:8080/"
        },
        "id": "038f6733",
        "outputId": "41c718c8-619e-4a3f-83da-f9c9f946c54c"
      },
      "outputs": [
        {
          "data": {
            "text/plain": [
              "{\"<class 'unstructured.documents.elements.CompositeElement'>\"}"
            ]
          },
          "execution_count": 6,
          "metadata": {},
          "output_type": "execute_result"
        }
      ],
      "source": [
        "# We get 2 types of elements from the partition_pdf function\n",
        "set([str(type(el)) for el in chunks])"
      ]
    },
    {
      "cell_type": "code",
      "execution_count": 7,
      "id": "cccca0db",
      "metadata": {
        "colab": {
          "base_uri": "https://localhost:8080/"
        },
        "id": "cccca0db",
        "outputId": "2342256a-a1b9-4b41-c921-1c0e8005fcee"
      },
      "outputs": [
        {
          "data": {
            "text/plain": [
              "[<unstructured.documents.elements.Title at 0x7efca8900b90>,\n",
              " <unstructured.documents.elements.Table at 0x7efca8903f10>,\n",
              " <unstructured.documents.elements.FigureCaption at 0x7efca8902190>,\n",
              " <unstructured.documents.elements.Image at 0x7efca8902250>,\n",
              " <unstructured.documents.elements.FigureCaption at 0x7efca8903e50>,\n",
              " <unstructured.documents.elements.Image at 0x7efca8900150>,\n",
              " <unstructured.documents.elements.NarrativeText at 0x7efcab3f6f90>,\n",
              " <unstructured.documents.elements.Title at 0x7efcab3f7d10>,\n",
              " <unstructured.documents.elements.NarrativeText at 0x7efca88d8c50>,\n",
              " <unstructured.documents.elements.NarrativeText at 0x7efca89033d0>,\n",
              " <unstructured.documents.elements.NarrativeText at 0x7efcaa20a490>,\n",
              " <unstructured.documents.elements.NarrativeText at 0x7efcab3f6ed0>,\n",
              " <unstructured.documents.elements.Formula at 0x7efcab3f65d0>,\n",
              " <unstructured.documents.elements.NarrativeText at 0x7efcab3f7150>,\n",
              " <unstructured.documents.elements.NarrativeText at 0x7efcab3f77d0>,\n",
              " <unstructured.documents.elements.NarrativeText at 0x7efcab3f6a10>,\n",
              " <unstructured.documents.elements.NarrativeText at 0x7efcab3f5b10>,\n",
              " <unstructured.documents.elements.ListItem at 0x7efcab3f5ad0>]"
            ]
          },
          "execution_count": 7,
          "metadata": {},
          "output_type": "execute_result"
        }
      ],
      "source": [
        "# Each CompositeElement containes a bunch of related elements.\n",
        "# This makes it easy to use these elements together in a RAG pipeline.\n",
        "\n",
        "chunks[3].metadata.orig_elements"
      ]
    },
    {
      "cell_type": "code",
      "execution_count": 8,
      "id": "b8766f03",
      "metadata": {
        "colab": {
          "base_uri": "https://localhost:8080/"
        },
        "id": "b8766f03",
        "outputId": "47211aa9-c606-4757-8217-45d1c76afe7b"
      },
      "outputs": [
        {
          "data": {
            "text/plain": [
              "{'type': 'Image',\n",
              " 'element_id': '68a25ff9-1349-4896-8cab-9f0645d0ef4d',\n",
              " 'text': 'Figure 2.',\n",
              " 'metadata': {'detection_class_prob': 0.5667855739593506,\n",
              "  'coordinates': {'points': ((np.float64(116.06170654296875),\n",
              "     np.float64(806.50732421875)),\n",
              "    (np.float64(116.06170654296875), np.float64(1166.0367431640625)),\n",
              "    (np.float64(374.8994445800781), np.float64(1166.0367431640625)),\n",
              "    (np.float64(374.8994445800781), np.float64(806.50732421875))),\n",
              "   'system': 'PixelSpace',\n",
              "   'layout_width': 1700,\n",
              "   'layout_height': 2200},\n",
              "  'last_modified': '2025-05-06T04:21:53',\n",
              "  'filetype': 'PPM',\n",
              "  'languages': ['eng'],\n",
              "  'page_number': 5,\n",
              "  'image_base64': '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',\n",
              "  'image_mime_type': 'image/jpeg'}}"
            ]
          },
          "execution_count": 8,
          "metadata": {},
          "output_type": "execute_result"
        }
      ],
      "source": [
        "# This is what an extracted image looks like.\n",
        "# It contains the base64 representation only because we set the param extract_image_block_to_payload=True\n",
        "\n",
        "elements = chunks[3].metadata.orig_elements\n",
        "chunk_images = [el for el in elements if 'Image' in str(type(el))]\n",
        "chunk_images[0].to_dict()"
      ]
    },
    {
      "cell_type": "markdown",
      "id": "26caebda",
      "metadata": {
        "id": "26caebda"
      },
      "source": [
        "### Separate extracted elements into tables, text, and images"
      ]
    },
    {
      "cell_type": "code",
      "execution_count": 9,
      "id": "8326a750",
      "metadata": {
        "id": "8326a750"
      },
      "outputs": [],
      "source": [
        "# separate tables from texts\n",
        "tables = []\n",
        "texts = []\n",
        "\n",
        "for chunk in chunks:\n",
        "    if \"Table\" in str(type(chunk)):\n",
        "        tables.append(chunk)\n",
        "\n",
        "    if \"CompositeElement\" in str(type((chunk))):\n",
        "        texts.append(chunk)"
      ]
    },
    {
      "cell_type": "code",
      "execution_count": 10,
      "id": "df548e46",
      "metadata": {
        "id": "df548e46"
      },
      "outputs": [],
      "source": [
        "# Get the images from the CompositeElement objects\n",
        "def get_images_base64(chunks):\n",
        "    images_b64 = []\n",
        "    for chunk in chunks:\n",
        "        if \"CompositeElement\" in str(type(chunk)):\n",
        "            chunk_els = chunk.metadata.orig_elements\n",
        "            for el in chunk_els:\n",
        "                if \"Image\" in str(type(el)):\n",
        "                    images_b64.append(el.metadata.image_base64)\n",
        "    return images_b64\n",
        "\n",
        "images = get_images_base64(chunks)"
      ]
    },
    {
      "cell_type": "markdown",
      "id": "9582f462",
      "metadata": {
        "id": "9582f462"
      },
      "source": [
        "#### Check what the images look like"
      ]
    },
    {
      "cell_type": "code",
      "execution_count": 11,
      "id": "83158c36",
      "metadata": {
        "colab": {
          "base_uri": "https://localhost:8080/",
          "height": 564
        },
        "id": "83158c36",
        "outputId": "db75942b-fb94-4f08-b87d-04541ea327f6"
      },
      "outputs": [
        {
          "data": {
            "image/jpeg": "[encoded data removed]",
            "text/plain": [
              "<IPython.core.display.Image object>"
            ]
          },
          "metadata": {},
          "output_type": "display_data"
        }
      ],
      "source": [
        "import base64\n",
        "from IPython.display import Image, display\n",
        "\n",
        "def display_base64_image(base64_code):\n",
        "    # Decode the base64 string to binary\n",
        "    image_data = base64.b64decode(base64_code)\n",
        "    # Display the image\n",
        "    display(Image(data=image_data))\n",
        "\n",
        "display_base64_image(images[0])"
      ]
    },
    {
      "cell_type": "markdown",
      "id": "0aa7f52f-bf5c-4ba4-af72-b2ccba59a4cf",
      "metadata": {
        "id": "0aa7f52f-bf5c-4ba4-af72-b2ccba59a4cf"
      },
      "source": [
        "## Summarize the data\n",
        "\n",
        "Create a summary of each element extracted from the PDF. This summary will be vectorized and used in the retrieval process."
      ]
    },
    {
      "cell_type": "markdown",
      "id": "8b55862c",
      "metadata": {
        "id": "8b55862c"
      },
      "source": [
        "### Text and Table summaries\n",
        "\n",
        "We don't need a multimodal model to generate the summaries of the tables and the text. I will use open source models available on Groq."
      ]
    },
    {
      "cell_type": "code",
      "execution_count": 12,
      "id": "08b3d2bc",
      "metadata": {
        "id": "08b3d2bc"
      },
      "outputs": [],
      "source": [
        "%pip install -Uq langchain-groq"
      ]
    },
    {
      "cell_type": "code",
      "execution_count": 13,
      "id": "523e6ed2-2132-4748-bdb7-db765f20648d",
      "metadata": {
        "id": "523e6ed2-2132-4748-bdb7-db765f20648d"
      },
      "outputs": [],
      "source": [
        "from langchain_groq import ChatGroq\n",
        "from langchain_core.prompts import ChatPromptTemplate\n",
        "from langchain_core.output_parsers import StrOutputParser"
      ]
    },
    {
      "cell_type": "code",
      "execution_count": 14,
      "id": "22c22e3f-42fb-4a4a-a87a-89f10ba8ab99",
      "metadata": {
        "id": "22c22e3f-42fb-4a4a-a87a-89f10ba8ab99"
      },
      "outputs": [],
      "source": [
        "# Prompt\n",
        "prompt_text = \"\"\"\n",
        "You are an assistant tasked with summarizing tables and text.\n",
        "Give a concise summary of the table or text.\n",
        "\n",
        "Respond only with the summary, no additionnal comment.\n",
        "Do not start your message by saying \"Here is a summary\" or anything like that.\n",
        "Just give the summary as it is.\n",
        "\n",
        "Table or text chunk: {element}\n",
        "\n",
        "\"\"\"\n",
        "prompt = ChatPromptTemplate.from_template(prompt_text)\n",
        "\n",
        "# Summary chain\n",
        "model = ChatGroq(temperature=0.5, model=\"llama-3.1-8b-instant\")\n",
        "summarize_chain = {\"element\": lambda x: x} | prompt | model | StrOutputParser()"
      ]
    },
    {
      "cell_type": "code",
      "execution_count": 26,
      "id": "f176b374-aef0-48f4-a104-fb26b1dd6922",
      "metadata": {
        "id": "f176b374-aef0-48f4-a104-fb26b1dd6922"
      },
      "outputs": [],
      "source": [
        "import time\n",
        "import re\n",
        "from more_itertools import chunked\n",
        "\n",
        "def safe_batch_summarize(inputs, max_concurrency=3, max_retries=5, default_delay=10):\n",
        "    summaries = []\n",
        "    chunks = list(chunked(inputs, max_concurrency))\n",
        "\n",
        "    for chunk in chunks:\n",
        "        retry_count = 0\n",
        "        while retry_count <= max_retries:\n",
        "            try:\n",
        "                result = summarize_chain.batch(chunk, {\"max_concurrency\": max_concurrency})\n",
        "                summaries.extend(result)\n",
        "                break\n",
        "            except Exception as e:\n",
        "                message = str(e).lower()\n",
        "                if \"rate limit\" in message or \"429\" in message:\n",
        "                    retry_count += 1\n",
        "                    delay_match = re.search(r\"try again in ([\\d\\.]+)s\", message)\n",
        "                    delay = float(delay_match.group(1)) if delay_match else default_delay\n",
        "                    print(f\"Rate limit hit. Retrying in {delay:.2f}s... (Attempt {retry_count}/{max_retries})\")\n",
        "                    time.sleep(delay)\n",
        "                else:\n",
        "                    raise e\n",
        "        else:\n",
        "            print(\"Max retries exceeded. Skipping this chunk.\")\n",
        "    return summaries\n"
      ]
    },
    {
      "cell_type": "code",
      "execution_count": 27,
      "id": "1d172ad2",
      "metadata": {
        "colab": {
          "base_uri": "https://localhost:8080/"
        },
        "id": "1d172ad2",
        "outputId": "93852b13-6dbd-441d-94f3-14daefce26cf"
      },
      "outputs": [
        {
          "name": "stdout",
          "output_type": "stream",
          "text": [
            "Rate limit hit. Retrying in 7.43s... (Attempt 1/5)\n",
            "Text Summaries:\n",
            "\n",
            "--- Summary 1 ---\n",
            "Kinematics is the branch of physics that deals with the analysis of motion without concern for the forces causing it. The investigation focuses on objects moving with constant velocity or acceleration, using equations to predict future position and velocity.\n",
            "\n",
            "--- Summary 2 ---\n",
            "Classical mechanics is the branch of physics that studies the motion of large, slow-moving objects, describing their motion using principles of physics and kinematics. Kinematics is a specific branch of mechanics that focuses on describing motion without referencing forces, using equations to predict an object's position, velocity, and acceleration over time. Early scientists such as Galileo, Newton, and Kepler developed mathematical laws to describe and predict the motion of objects, laying the foundation for classical mechanics.\n",
            "\n",
            "--- Summary 3 ---\n",
            "Personal protective equipment includes gloves, apron, and goggles. Warning signs indicate a hazardous environment due to corrosion, flammability, and toxicity. A stopwatch is required for a specific task. Key concepts in kinematics include vectors, scalars, velocity, acceleration, speed, distance, and displacement. The difference between distance and displacement is illustrated using a number line and diagrams.\n",
            "\n",
            "--- Summary 4 ---\n",
            "The text describes displacement vectors in three figures, explaining how to resolve them into component vectors along the x and y axes. The displacement vector's magnitude is 5 meters, but its direction varies in each figure, and its components are given in polar coordinates. The text also introduces velocity and acceleration as vector quantities.\n",
            "\n",
            "--- Summary 5 ---\n",
            "Velocity is the rate of change of an object's position and can be described as the change in position over a given time interval. It is a vector quantity with positive sign indicating movement in the positive direction. Average velocity is calculated as the change in position divided by the time interval. Acceleration is the rate of change of velocity, calculated as the change in velocity divided by the time interval.\n",
            "\n",
            "--- Summary 6 ---\n",
            "Replacement supplies for the Kinematics investigation can be ordered from Carolina Biological Supply Company by calling 800.334.5551. The investigation involves a constant velocity car, metal and acrylic spheres, angle bar, foam board, and clay, and requires safety goggles, a level floor space, and a digital device to record data.\n",
            "\n",
            "--- Summary 7 ---\n",
            "The Hudl Technique and SloPro app are used to analyze motion data, including graphing position and time data, and calculating velocity. Two activities are described: analyzing the motion of a train using position and time data, and calculating the velocity of a moving object by measuring time and distance.\n",
            "\n",
            "--- Summary 8 ---\n",
            "Measure a 2-meter track with 25-centimeter intervals, set a car on the track, and record the time it takes to cross each interval. Graph the time and displacement data, draw a line of best fit, and calculate the slope to determine the car's velocity. Use a second graph to plot velocity vs. time and find the area under the velocity line between 2 and 4 seconds.\n",
            "\n",
            "--- Summary 9 ---\n",
            "To calculate displacement, multiply velocity by time or find the area under the velocity vs. time graph in a given time interval. Displacement = velocity * time, or area under the curve.\n",
            "\n",
            "--- Summary 10 ---\n",
            "The equation for an object's displacement under constant acceleration is Ax = 1/2at^2, where Ax is displacement, t is time, and a is acceleration.\n",
            "\n",
            "--- Summary 11 ---\n",
            "The equation for the displacement of an object undergoing constant acceleration is Ax = ½at^2 + v0t + viAt, where Ax is the displacement, a is the acceleration, t is time, v0 is the initial velocity, and vi is the initial velocity. When the object is released from rest, the equation simplifies to Ax = ½at^2.\n",
            "\n",
            "--- Summary 12 ---\n",
            "The activity demonstrates that a sphere rolling down an incline moves under constant acceleration, as evidenced by the increasing sound frequency as it crosses equally spaced rubber bands and the decreasing time to travel the same displacement.\n",
            "\n",
            "--- Summary 13 ---\n",
            "Displacement increases in a sequence of perfect squares (1, 4, 9, 16, 25, 36, 49, 64, 81).\n",
            "\n",
            "--- Summary 14 ---\n",
            "The document appears to be a manual or guide titled \"Kinematics Investigation Manual\" published by Carolina Biological Supply Company, which offers distance learning resources and a website, www.carolina.com.\n"
          ]
        }
      ],
      "source": [
        "text_summaries = safe_batch_summarize(texts)\n",
        "print(\"Text Summaries:\")\n",
        "for i, summary in enumerate(text_summaries, 1):\n",
        "    print(f\"\\n--- Summary {i} ---\")\n",
        "    print(summary)"
      ]
    },
    {
      "cell_type": "markdown",
      "id": "b1feadda-8171-4aed-9a60-320a88dc9ee1",
      "metadata": {
        "id": "b1feadda-8171-4aed-9a60-320a88dc9ee1"
      },
      "source": [
        "### Image summaries\n",
        "\n",
        "We will use gpt-4o-mini to produce the image summaries."
      ]
    },
    {
      "cell_type": "code",
      "execution_count": 28,
      "id": "32c825e1",
      "metadata": {
        "id": "32c825e1"
      },
      "outputs": [],
      "source": [
        "%pip install -Uq langchain_openai"
      ]
    },
    {
      "cell_type": "code",
      "execution_count": null,
      "id": "laF_8o1gzHT0",
      "metadata": {
        "colab": {
          "base_uri": "https://localhost:8080/"
        },
        "id": "laF_8o1gzHT0",
        "outputId": "f82547af-0885-4d78-9f50-940dd9e6551e"
      },
      "outputs": [
        {
          "data": {
            "text/plain": [
              "['The image presents a schematic representation of the transformer architecture, which is fundamental in natural language processing and machine learning. Here’s a detailed description of its components:\\n\\n1. **Overall Structure**: The diagram is divided into two main sections, representing the encoder (on the left) and the decoder (on the right) of the transformer model. Both sections involve repeated layers denoted as \\\\(N_x\\\\), indicating that these layers are stacked multiple times.\\n\\n2. **Positional Encoding**: At the bottom of both sections, there are blocks labeled \"Positional Encoding.\" This component is crucial as it adds information about the position of tokens in the sequence, enabling the model to understand the order of inputs.\\n\\n3. **Input and Output Embeddings**: Below the positional encoding blocks, there are two labeled boxes: “Input Embedding” for the encoder and “Output Embedding” for the decoder. These embeddings transform the input tokens into continuous vector representations.\\n\\n4. **Encoder Side**:\\n   - **Multi-Head Attention**: The first major block labeled \"Multi-Head Attention\" is responsible for capturing relationships between different tokens in the input sequence. It is connected to an \"Add & Norm\" block, which combines its output with the original input and normalizes it.\\n   - **Feed Forward**: Following this is the \"Feed Forward\" block, where a fully connected neural network processes the data further. This is also followed by another \"Add & Norm\" layer, ensuring that the outputs are again combined with the original inputs.\\n   - This structure is repeated \\\\(N_x\\\\) times to create multiple layers.\\n\\n5. **Decoder Side**:\\n   - **Masked Multi-Head Attention**: Similar to the encoder, the decoder starts with a \"Masked Multi-Head Attention\" block. The masking is crucial to ensure that the predictions for a particular position can depend only on the known outputs before it.\\n   - **Feed Forward**: It also includes a \"Feed Forward\" block followed by an \"Add & Norm\" block.\\n   - The decoder then connects to the output probabilities through a \"Linear\" layer followed by a \"Softmax\" layer, which converts the final output into probabilities for each token in the vocabulary.\\n\\n6. **Arrows and Flow**: The diagram uses arrows to indicate the flow of data throughout the architecture, showing how inputs are transformed and passed between layers.\\n\\nOverall, the schematic effectively illustrates the flow of information through the transformer architecture, highlighting the importance of attention mechanisms and normalization in processing sequences.',\n",
              " 'The image depicts two main concepts from the transformer architecture: **Scaled Dot-Product Attention** and **Multi-Head Attention**.\\n\\n### Scaled Dot-Product Attention (Left Side)\\n1. **Structure**: \\n   - The flow starts with three inputs represented as **Q** (Query), **K** (Key), and **V** (Value).\\n   - The first operation is a **MatMul** (matrix multiplication) between Q and K, producing a score.\\n   - This score is then passed to a **Scale** component, which adjusts the magnitude of the scores.\\n   - An optional **Mask** is applied next to prevent certain positions from being attended to, often used in tasks like language modeling.\\n   - The scores are then passed through a **SoftMax** layer to convert them into probabilities.\\n   - Finally, another **MatMul** operation takes the output from SoftMax and multiplies it by V to produce the final attention output.\\n\\n### Multi-Head Attention (Right Side)\\n1. **Structure**:\\n   - This section builds upon the scaled dot-product attention.\\n   - It begins with three linear transformations applied to V, K, and Q, indicated by three **Linear** blocks.\\n   - These transformed vectors are then processed by the **Scaled Dot-Product Attention** block (highlighted in purple).\\n   - The outputs from multiple attention heads are concatenated using the **Concat** operation.\\n   - The final output from this multi-head attention structure is connected to another **Linear** layer.\\n\\n### Visual Elements:\\n- **Color Coding**: Different components are color-coded for clarity, with purple for the main attention mechanism and other colors for supporting operations.\\n- **Arrows**: Directional arrows indicate the flow of data through the various operations, demonstrating how inputs are transformed at each stage.\\n- **Labels**: Clear labels for each component help in understanding the functionality of each part of the architecture.\\n\\nThis diagram effectively illustrates how attention mechanisms are implemented in transformers, showcasing the sequential and parallel processing involved.',\n",
              " 'The image depicts a diagram illustrating the architecture of the transformer model, specifically focusing on the scaled dot-product attention mechanism.\\n\\n### Components:\\n\\n1. **Input Vectors (V, K, Q)**:\\n   - At the bottom of the diagram, there are three labeled boxes: **V** (Values), **K** (Keys), and **Q** (Queries). Each box is associated with a \"Linear\" label above it, indicating that these inputs undergo a linear transformation.\\n\\n2. **Linear Transformations**:\\n   - Above each of the V, K, and Q boxes, there are \"Linear\" labels. This signifies that each input vector is processed through a linear layer, typically involving a weight matrix multiplication and an optional bias.\\n\\n3. **Scaled Dot-Product Attention**:\\n   - Central to the diagram is a larger box labeled **Scaled Dot-Product Attention**, highlighted in purple. This is the core operation that computes attention scores based on the queries, keys, and values.\\n\\n4. **Concatenation**:\\n   - Above the attention box, there is a \"Concat\" box, suggesting that the outputs from the attention mechanism may be concatenated with other features or outputs in the subsequent layers.\\n\\n5. **Flow Arrows**:\\n   - Several arrows indicate the flow of data:\\n     - Arrows point upwards from the linear transformations (V, K, Q) to the scaled dot-product attention box, showing that these inputs are fed into the attention mechanism.\\n     - There are also arrows pointing from the attention box to the Concatenation box, indicating that the output of the attention mechanism is directed toward concatenation.\\n\\n6. **Output (h)**:\\n   - An arrow extends from the attention box to a label **h**, which likely represents the output of the attention mechanism or the hidden state that will be used in further processing.\\n\\n### Summary:\\nThe diagram effectively illustrates the key components and flow of information in the scaled dot-product attention mechanism of the transformer architecture, highlighting the importance of linear transformations and the interaction between inputs and the attention mechanism.',\n",
              " 'The image appears to illustrate a component of the transformer architecture, likely focusing on attention mechanisms. It features a series of words arranged vertically and horizontally, representing tokens in a sequence. \\n\\n1. **Token Representation**: The words are aligned in rows and columns, with some words repeated, suggesting the model processes multiple input sequences. Key tokens like \"making,\" \"the,\" \"registration,\" and \"more difficult\" stand out, possibly indicating significant elements in the context.\\n\\n2. **Attention Weights**: There are colored lines connecting specific words, indicating the attention weights assigned during processing. The lines vary in thickness and color, suggesting different levels of attention or importance that the model attributes to these tokens in relation to others. For instance, thicker lines might denote stronger relationships, while thinner ones indicate weaker connections.\\n\\n3. **Special Tokens**: The sequence includes special tokens such as `<EOS>` (end of sequence) and `<pad>` (padding), which are common in transformer architectures for managing input lengths and denoting sequence boundaries.\\n\\n4. **Layout and Design**: The layout is organized and structured, with a clear focus on how different tokens interact. The use of color helps distinguish between different types of connections or relationships among the words.\\n\\nOverall, the image serves to visually represent how the transformer model attends to different parts of an input sequence, emphasizing the relationships between specific tokens as part of the model\\'s processing mechanism.',\n",
              " 'The image depicts a visual representation of the attention mechanism commonly used in transformer architectures. It features a series of words arranged in a horizontal layout, each accompanied by a connecting line that illustrates the attention weights between them.\\n\\n### Key Features:\\n\\n1. **Words/Tokens**: The image contains a sequence of words, which seem to form part of a sentence. These words are positioned in a linear fashion, creating a clear progression from left to right.\\n\\n2. **Attention Lines**: \\n   - **Lines and Colors**: Various lines connect the words, indicating how attention is distributed across different tokens. The lines are primarily in shades of purple, with varying opacities.\\n   - **Thicker Lines**: Some lines are thicker, suggesting stronger attention weights between specific tokens. For example, connections from the word \"Law\" to multiple other words indicate its importance in the context.\\n   - **Directionality**: The lines originate from words on the left and connect to those on the right, representing how each word influences others in the sequence.\\n\\n3. **Special Tokens**: \\n   - There are tokens such as `<EOS>` (End of Sequence) and `<pad>` (padding), which indicate the beginning and end of the processing sequence. These are positioned at the far right, contributing to the overall structure.\\n\\n4. **Layout**: The layout appears somewhat tree-like, with several branches stemming from particular words, showing how certain words (like \"Law\" and \"application\") interact with multiple other tokens.\\n\\nThis visual effectively conveys how the transformer architecture utilizes attention mechanisms to weigh the relevance of different tokens in a sequence, which is crucial for understanding contextual relationships in language processing.',\n",
              " 'The image illustrates a visualization related to the transformer architecture, likely depicting attention mechanisms. It features several words arranged in two rows, with connections represented by lines between them.\\n\\n### Description:\\n\\n1. **Words**:\\n   - The left side contains a sequence of words: \"The,\" \"Law,\" \"will,\" \"never,\" \"be,\" \"perfect,\" \"but,\" \"its,\" \"application,\" \"should,\" \"be,\" \"just.\"\\n   - The right side includes: \"this,\" \"is,\" \"what,\" \"we,\" \"are,\" \"missing,\" \"in,\" \"my,\" \"opinion,\" along with special tokens \"<EOS>\" and \"<pad>\".\\n\\n2. **Connections**:\\n   - There are multiple green lines connecting the words from the left and right sides. The lines vary in thickness, indicating the strength of attention or relevance between the words. \\n   - Thicker lines likely represent stronger connections, suggesting that those word pairs have a higher attention score.\\n\\n3. **Color and Transparency**:\\n   - The lines are in different shades of green, with some being more opaque and others lighter, which may indicate varying levels of significance in the attention mechanism.\\n\\n4. **Layout**:\\n   - The words are arranged in a horizontal layout, with connections crisscrossing between the two groups, visually representing how the transformer model attends to different parts of the input sequence.\\n\\nThis visualization effectively showcases how a transformer model processes and relates different words within a sequence, emphasizing the attention mechanism\\'s role in understanding context and relationships within language data.',\n",
              " 'The image appears to illustrate concepts related to the transformer\\'s attention mechanism, commonly used in natural language processing. \\n\\n### Key Features of the Image:\\n\\n1. **Text Representation**: \\n   - The image consists of a series of words arranged in a linear sequence, representing a sentence or phrase. The words include terms like \"The,\" \"Law,\" \"will,\" \"never,\" and so on, extending to phrases like \"in my opinion\" and special tokens such as `<EOS>` (end of sequence) and `<pad>` (padding).\\n\\n2. **Connections**: \\n   - There are numerous lines connecting the words across the two sections of text. These lines vary in thickness and color intensity, indicating the strength of attention between the words.\\n   - The thicker, darker red lines suggest a stronger relationship or attention between specific words, while the lighter lines indicate weaker relationships.\\n\\n3. **Attention Mechanism**:\\n   - The lines likely represent how the transformer\\'s attention mechanism works, showing which words pay attention to others during processing. For example, a word on the left may direct its attention toward multiple words on the right, indicating contextual relationships or dependencies.\\n\\n4. **Layout**:\\n   - The words are organized in a two-row format, with the first row containing the initial part of the sequence and the second row representing subsequent words. This layout emphasizes the connections across different parts of the sentence.\\n\\n5. **Implications**:\\n   - This visual representation is intended to help readers understand how transformers manage relationships between words through attention, which is crucial for tasks such as translation, summarization, or question answering.\\n\\nOverall, the image serves as a visual aid to explain the complex interactions among words in a sentence as understood by transformer models.']"
            ]
          },
          "execution_count": 18,
          "metadata": {},
          "output_type": "execute_result"
        }
      ],
      "source": [
        "image_summaries"
      ]
    },
    {
      "cell_type": "code",
      "execution_count": null,
      "id": "aHNDEd_2txQI",
      "metadata": {
        "colab": {
          "base_uri": "https://localhost:8080/",
          "height": 143
        },
        "id": "aHNDEd_2txQI",
        "outputId": "fbd7c64e-f463-4203-e1ca-f79c7426aaf6"
      },
      "outputs": [
        {
          "name": "stdout",
          "output_type": "stream",
          "text": [
            "The image depicts two main concepts from the transformer architecture: **Scaled Dot-Product Attention** and **Multi-Head Attention**.\n",
            "\n",
            "### Scaled Dot-Product Attention (Left Side)\n",
            "1. **Structure**: \n",
            "   - The flow starts with three inputs represented as **Q** (Query), **K** (Key), and **V** (Value).\n",
            "   - The first operation is a **MatMul** (matrix multiplication) between Q and K, producing a score.\n",
            "   - This score is then passed to a **Scale** component, which adjusts the magnitude of the scores.\n",
            "   - An optional **Mask** is applied next to prevent certain positions from being attended to, often used in tasks like language modeling.\n",
            "   - The scores are then passed through a **SoftMax** layer to convert them into probabilities.\n",
            "   - Finally, another **MatMul** operation takes the output from SoftMax and multiplies it by V to produce the final attention output.\n",
            "\n",
            "### Multi-Head Attention (Right Side)\n",
            "1. **Structure**:\n",
            "   - This section builds upon the scaled dot-product attention.\n",
            "   - It begins with three linear transformations applied to V, K, and Q, indicated by three **Linear** blocks.\n",
            "   - These transformed vectors are then processed by the **Scaled Dot-Product Attention** block (highlighted in purple).\n",
            "   - The outputs from multiple attention heads are concatenated using the **Concat** operation.\n",
            "   - The final output from this multi-head attention structure is connected to another **Linear** layer.\n",
            "\n",
            "### Visual Elements:\n",
            "- **Color Coding**: Different components are color-coded for clarity, with purple for the main attention mechanism and other colors for supporting operations.\n",
            "- **Arrows**: Directional arrows indicate the flow of data through the various operations, demonstrating how inputs are transformed at each stage.\n",
            "- **Labels**: Clear labels for each component help in understanding the functionality of each part of the architecture.\n",
            "\n",
            "This diagram effectively illustrates how attention mechanisms are implemented in transformers, showcasing the sequential and parallel processing involved.\n"
          ]
        }
      ],
      "source": [
        "print(image_summaries[1])"
      ]
    },
    {
      "cell_type": "markdown",
      "id": "bb4d2379",
      "metadata": {
        "id": "bb4d2379"
      },
      "source": [
        "### Create the vectorstore"
      ]
    },
    {
      "cell_type": "code",
      "execution_count": null,
      "id": "9d8d7a34-69e0-49a2-b9f7-1a4e7b26d78f",
      "metadata": {
        "id": "9d8d7a34-69e0-49a2-b9f7-1a4e7b26d78f",
        "outputId": "c91d7a77-d820-446f-a751-15f5d4668e8f"
      },
      "outputs": [
        {
          "name": "stderr",
          "output_type": "stream",
          "text": [
            "/var/folders/lh/7g2mv_x16p79z2rd9jqxqx_w0000gn/T/ipykernel_92745/278287695.py:9: LangChainDeprecationWarning: The class `OpenAIEmbeddings` was deprecated in LangChain 0.0.9 and will be removed in 1.0. An updated version of the class exists in the :class:`~langchain-openai package and should be used instead. To use it run `pip install -U :class:`~langchain-openai` and import as `from :class:`~langchain_openai import OpenAIEmbeddings``.\n",
            "  vectorstore = Chroma(collection_name=\"multi_modal_rag\", embedding_function=OpenAIEmbeddings())\n",
            "/var/folders/lh/7g2mv_x16p79z2rd9jqxqx_w0000gn/T/ipykernel_92745/278287695.py:9: LangChainDeprecationWarning: The class `Chroma` was deprecated in LangChain 0.2.9 and will be removed in 1.0. An updated version of the class exists in the :class:`~langchain-chroma package and should be used instead. To use it run `pip install -U :class:`~langchain-chroma` and import as `from :class:`~langchain_chroma import Chroma``.\n",
            "  vectorstore = Chroma(collection_name=\"multi_modal_rag\", embedding_function=OpenAIEmbeddings())\n"
          ]
        }
      ],
      "source": [
        "import uuid\n",
        "from langchain.vectorstores import Chroma\n",
        "from langchain.storage import InMemoryStore\n",
        "from langchain.schema.document import Document\n",
        "from langchain.embeddings import OpenAIEmbeddings\n",
        "from langchain.retrievers.multi_vector import MultiVectorRetriever\n",
        "\n",
        "# The vectorstore to use to index the child chunks\n",
        "vectorstore = Chroma(collection_name=\"multi_modal_rag\", embedding_function=OpenAIEmbeddings())\n",
        "\n",
        "# The storage layer for the parent documents\n",
        "store = InMemoryStore()\n",
        "id_key = \"doc_id\"\n",
        "\n",
        "# The retriever (empty to start)\n",
        "retriever = MultiVectorRetriever(\n",
        "    vectorstore=vectorstore,\n",
        "    docstore=store,\n",
        "    id_key=id_key,\n",
        ")"
      ]
    },
    {
      "cell_type": "markdown",
      "id": "2bf26669",
      "metadata": {
        "id": "2bf26669"
      },
      "source": [
        "### Load the summaries and link the to the original data"
      ]
    },
    {
      "cell_type": "code",
      "execution_count": null,
      "id": "1792e683",
      "metadata": {
        "id": "1792e683"
      },
      "outputs": [],
      "source": [
        "# Add texts\n",
        "doc_ids = [str(uuid.uuid4()) for _ in texts]\n",
        "summary_texts = [\n",
        "    Document(page_content=summary, metadata={id_key: doc_ids[i]}) for i, summary in enumerate(text_summaries)\n",
        "]\n",
        "retriever.vectorstore.add_documents(summary_texts)\n",
        "retriever.docstore.mset(list(zip(doc_ids, texts)))\n",
        "\n",
        "# Add tables\n",
        "table_ids = [str(uuid.uuid4()) for _ in tables]\n",
        "summary_tables = [\n",
        "    Document(page_content=summary, metadata={id_key: table_ids[i]}) for i, summary in enumerate(table_summaries)\n",
        "]\n",
        "retriever.vectorstore.add_documents(summary_tables)\n",
        "retriever.docstore.mset(list(zip(table_ids, tables)))\n",
        "\n",
        "# Add image summaries\n",
        "img_ids = [str(uuid.uuid4()) for _ in images]\n",
        "summary_img = [\n",
        "    Document(page_content=summary, metadata={id_key: img_ids[i]}) for i, summary in enumerate(image_summaries)\n",
        "]\n",
        "retriever.vectorstore.add_documents(summary_img)\n",
        "retriever.docstore.mset(list(zip(img_ids, images)))"
      ]
    },
    {
      "cell_type": "markdown",
      "id": "4b45fb81-46b1-426e-aa2c-01aed4eac700",
      "metadata": {
        "id": "4b45fb81-46b1-426e-aa2c-01aed4eac700"
      },
      "source": [
        "### Check retrieval"
      ]
    },
    {
      "cell_type": "code",
      "execution_count": null,
      "id": "1bea75fe-85af-4955-a80c-6e0b44a8e215",
      "metadata": {
        "id": "1bea75fe-85af-4955-a80c-6e0b44a8e215"
      },
      "outputs": [],
      "source": [
        "# Retrieve\n",
        "docs = retriever.invoke(\n",
        "    \"who are the authors of the paper?\"\n",
        ")"
      ]
    },
    {
      "cell_type": "code",
      "execution_count": null,
      "id": "a0290c78",
      "metadata": {
        "id": "a0290c78"
      },
      "outputs": [],
      "source": [
        "for doc in docs:\n",
        "    print(str(doc) + \"\\n\\n\" + \"-\" * 80)"
      ]
    },
    {
      "cell_type": "markdown",
      "id": "69060724-e390-4dda-8250-5f86025c874a",
      "metadata": {
        "id": "69060724-e390-4dda-8250-5f86025c874a"
      },
      "source": [
        "## RAG pipeline"
      ]
    },
    {
      "cell_type": "code",
      "execution_count": null,
      "id": "771a47fa-1267-4db8-a6ae-5fde48bbc069",
      "metadata": {
        "id": "771a47fa-1267-4db8-a6ae-5fde48bbc069"
      },
      "outputs": [],
      "source": [
        "from langchain_core.runnables import RunnablePassthrough, RunnableLambda\n",
        "from langchain_core.messages import SystemMessage, HumanMessage\n",
        "from langchain_openai import ChatOpenAI\n",
        "from base64 import b64decode\n",
        "\n",
        "\n",
        "def parse_docs(docs):\n",
        "    \"\"\"Split base64-encoded images and texts\"\"\"\n",
        "    b64 = []\n",
        "    text = []\n",
        "    for doc in docs:\n",
        "        try:\n",
        "            b64decode(doc)\n",
        "            b64.append(doc)\n",
        "        except Exception as e:\n",
        "            text.append(doc)\n",
        "    return {\"images\": b64, \"texts\": text}\n",
        "\n",
        "\n",
        "def build_prompt(kwargs):\n",
        "\n",
        "    docs_by_type = kwargs[\"context\"]\n",
        "    user_question = kwargs[\"question\"]\n",
        "\n",
        "    context_text = \"\"\n",
        "    if len(docs_by_type[\"texts\"]) > 0:\n",
        "        for text_element in docs_by_type[\"texts\"]:\n",
        "            context_text += text_element.text\n",
        "\n",
        "    # construct prompt with context (including images)\n",
        "    prompt_template = f\"\"\"\n",
        "    Answer the question based only on the following context, which can include text, tables, and the below image.\n",
        "    Context: {context_text}\n",
        "    Question: {user_question}\n",
        "    \"\"\"\n",
        "\n",
        "    prompt_content = [{\"type\": \"text\", \"text\": prompt_template}]\n",
        "\n",
        "    if len(docs_by_type[\"images\"]) > 0:\n",
        "        for image in docs_by_type[\"images\"]:\n",
        "            prompt_content.append(\n",
        "                {\n",
        "                    \"type\": \"image_url\",\n",
        "                    \"image_url\": {\"url\": f\"data:image/jpeg;base64,{image}\"},\n",
        "                }\n",
        "            )\n",
        "\n",
        "    return ChatPromptTemplate.from_messages(\n",
        "        [\n",
        "            HumanMessage(content=prompt_content),\n",
        "        ]\n",
        "    )\n",
        "\n",
        "\n",
        "chain = (\n",
        "    {\n",
        "        \"context\": retriever | RunnableLambda(parse_docs),\n",
        "        \"question\": RunnablePassthrough(),\n",
        "    }\n",
        "    | RunnableLambda(build_prompt)\n",
        "    | ChatOpenAI(model=\"gpt-4o-mini\")\n",
        "    | StrOutputParser()\n",
        ")\n",
        "\n",
        "chain_with_sources = {\n",
        "    \"context\": retriever | RunnableLambda(parse_docs),\n",
        "    \"question\": RunnablePassthrough(),\n",
        "} | RunnablePassthrough().assign(\n",
        "    response=(\n",
        "        RunnableLambda(build_prompt)\n",
        "        | ChatOpenAI(model=\"gpt-4o-mini\")\n",
        "        | StrOutputParser()\n",
        "    )\n",
        ")"
      ]
    },
    {
      "cell_type": "code",
      "execution_count": null,
      "id": "ea8414a8-65ee-4e11-8154-029b454f46af",
      "metadata": {
        "id": "ea8414a8-65ee-4e11-8154-029b454f46af"
      },
      "outputs": [],
      "source": [
        "response = chain.invoke(\n",
        "    \"What is the attention mechanism?\"\n",
        ")\n",
        "\n",
        "print(response)"
      ]
    },
    {
      "cell_type": "code",
      "execution_count": null,
      "id": "e4adfeba",
      "metadata": {
        "id": "e4adfeba"
      },
      "outputs": [],
      "source": [
        "response = chain_with_sources.invoke(\n",
        "    \"What is multihead?\"\n",
        ")\n",
        "\n",
        "print(\"Response:\", response['response'])\n",
        "\n",
        "print(\"\\n\\nContext:\")\n",
        "for text in response['context']['texts']:\n",
        "    print(text.text)\n",
        "    print(\"Page number: \", text.metadata.page_number)\n",
        "    print(\"\\n\" + \"-\"*50 + \"\\n\")\n",
        "for image in response['context']['images']:\n",
        "    display_base64_image(image)"
      ]
    }
  ],
  "metadata": {
    "accelerator": "GPU",
    "colab": {
      "gpuType": "T4",
      "provenance": []
    },
    "kernelspec": {
      "display_name": "Python 3",
      "name": "python3"
    },
    "language_info": {
      "codemirror_mode": {
        "name": "ipython",
        "version": 3
      },
      "file_extension": ".py",
      "mimetype": "text/x-python",
      "name": "python",
      "nbconvert_exporter": "python",
      "pygments_lexer": "ipython3",
      "version": "3.12.7"
    },
    "widgets": {
      "application/vnd.jupyter.widget-state+json": {
        "04f8b97788cf477ea30413460518b87e": {
          "model_module": "@jupyter-widgets/base",
          "model_module_version": "1.2.0",
          "model_name": "LayoutModel",
          "state": {
            "_model_module": "@jupyter-widgets/base",
            "_model_module_version": "1.2.0",
            "_model_name": "LayoutModel",
            "_view_count": null,
            "_view_module": "@jupyter-widgets/base",
            "_view_module_version": "1.2.0",
            "_view_name": "LayoutView",
            "align_content": null,
            "align_items": null,
            "align_self": null,
            "border": null,
            "bottom": null,
            "display": null,
            "flex": null,
            "flex_flow": null,
            "grid_area": null,
            "grid_auto_columns": null,
            "grid_auto_flow": null,
            "grid_auto_rows": null,
            "grid_column": null,
            "grid_gap": null,
            "grid_row": null,
            "grid_template_areas": null,
            "grid_template_columns": null,
            "grid_template_rows": null,
            "height": null,
            "justify_content": null,
            "justify_items": null,
            "left": null,
            "margin": null,
            "max_height": null,
            "max_width": null,
            "min_height": null,
            "min_width": null,
            "object_fit": null,
            "object_position": null,
            "order": null,
            "overflow": null,
            "overflow_x": null,
            "overflow_y": null,
            "padding": null,
            "right": null,
            "top": null,
            "visibility": null,
            "width": null
          }
        },
        "08e77157728748319fad938c4dff70ee": {
          "model_module": "@jupyter-widgets/controls",
          "model_module_version": "1.5.0",
          "model_name": "HTMLModel",
          "state": {
            "_dom_classes": [],
            "_model_module": "@jupyter-widgets/controls",
            "_model_module_version": "1.5.0",
            "_model_name": "HTMLModel",
            "_view_count": null,
            "_view_module": "@jupyter-widgets/controls",
            "_view_module_version": "1.5.0",
            "_view_name": "HTMLView",
            "description": "",
            "description_tooltip": null,
            "layout": "IPY_MODEL_b0fc2ea20bd14a549a129f4f607ba745",
            "placeholder": "​",
            "style": "IPY_MODEL_e4a3cf4d468e49a8ac00e46639b4ba7a",
            "value": " 46.8M/46.8M [00:00&lt;00:00, 162MB/s]"
          }
        },
        "1a4d37c6cb8c4add8000b4243db4d7f9": {
          "model_module": "@jupyter-widgets/controls",
          "model_module_version": "1.5.0",
          "model_name": "HTMLModel",
          "state": {
            "_dom_classes": [],
            "_model_module": "@jupyter-widgets/controls",
            "_model_module_version": "1.5.0",
            "_model_name": "HTMLModel",
            "_view_count": null,
            "_view_module": "@jupyter-widgets/controls",
            "_view_module_version": "1.5.0",
            "_view_name": "HTMLView",
            "description": "",
            "description_tooltip": null,
            "layout": "IPY_MODEL_22bc539f7a614399bdcb55216096e19f",
            "placeholder": "​",
            "style": "IPY_MODEL_2935bcda938048718b89a2661a7c513e",
            "value": "model.safetensors: 100%"
          }
        },
        "1aaf1127bb064b79bfc5d49efd9749df": {
          "model_module": "@jupyter-widgets/controls",
          "model_module_version": "1.5.0",
          "model_name": "HBoxModel",
          "state": {
            "_dom_classes": [],
            "_model_module": "@jupyter-widgets/controls",
            "_model_module_version": "1.5.0",
            "_model_name": "HBoxModel",
            "_view_count": null,
            "_view_module": "@jupyter-widgets/controls",
            "_view_module_version": "1.5.0",
            "_view_name": "HBoxView",
            "box_style": "",
            "children": [
              "IPY_MODEL_a775b6cace0b4c57b6bac97d4c0b87af",
              "IPY_MODEL_33cb19f72480479bb61aa62aadcc1da7",
              "IPY_MODEL_d0ace648785b4c04a626b73d9edea171"
            ],
            "layout": "IPY_MODEL_6045984ca893489485524aa256e66f30"
          }
        },
        "1c5f8980680e49b8b68c0a78eabdf81b": {
          "model_module": "@jupyter-widgets/controls",
          "model_module_version": "1.5.0",
          "model_name": "HTMLModel",
          "state": {
            "_dom_classes": [],
            "_model_module": "@jupyter-widgets/controls",
            "_model_module_version": "1.5.0",
            "_model_name": "HTMLModel",
            "_view_count": null,
            "_view_module": "@jupyter-widgets/controls",
            "_view_module_version": "1.5.0",
            "_view_name": "HTMLView",
            "description": "",
            "description_tooltip": null,
            "layout": "IPY_MODEL_9d7ed28510404583a184eec67c838c46",
            "placeholder": "​",
            "style": "IPY_MODEL_b728e1c5694c47c6be699bebb44fac83",
            "value": " 115M/115M [00:00&lt;00:00, 201MB/s]"
          }
        },
        "1dd8cd2ea485487f8afaf3f968ac81dc": {
          "model_module": "@jupyter-widgets/controls",
          "model_module_version": "1.5.0",
          "model_name": "DescriptionStyleModel",
          "state": {
            "_model_module": "@jupyter-widgets/controls",
            "_model_module_version": "1.5.0",
            "_model_name": "DescriptionStyleModel",
            "_view_count": null,
            "_view_module": "@jupyter-widgets/base",
            "_view_module_version": "1.2.0",
            "_view_name": "StyleView",
            "description_width": ""
          }
        },
        "22bc539f7a614399bdcb55216096e19f": {
          "model_module": "@jupyter-widgets/base",
          "model_module_version": "1.2.0",
          "model_name": "LayoutModel",
          "state": {
            "_model_module": "@jupyter-widgets/base",
            "_model_module_version": "1.2.0",
            "_model_name": "LayoutModel",
            "_view_count": null,
            "_view_module": "@jupyter-widgets/base",
            "_view_module_version": "1.2.0",
            "_view_name": "LayoutView",
            "align_content": null,
            "align_items": null,
            "align_self": null,
            "border": null,
            "bottom": null,
            "display": null,
            "flex": null,
            "flex_flow": null,
            "grid_area": null,
            "grid_auto_columns": null,
            "grid_auto_flow": null,
            "grid_auto_rows": null,
            "grid_column": null,
            "grid_gap": null,
            "grid_row": null,
            "grid_template_areas": null,
            "grid_template_columns": null,
            "grid_template_rows": null,
            "height": null,
            "justify_content": null,
            "justify_items": null,
            "left": null,
            "margin": null,
            "max_height": null,
            "max_width": null,
            "min_height": null,
            "min_width": null,
            "object_fit": null,
            "object_position": null,
            "order": null,
            "overflow": null,
            "overflow_x": null,
            "overflow_y": null,
            "padding": null,
            "right": null,
            "top": null,
            "visibility": null,
            "width": null
          }
        },
        "274d165559194cacab25aa9a7a98ff4f": {
          "model_module": "@jupyter-widgets/controls",
          "model_module_version": "1.5.0",
          "model_name": "HTMLModel",
          "state": {
            "_dom_classes": [],
            "_model_module": "@jupyter-widgets/controls",
            "_model_module_version": "1.5.0",
            "_model_name": "HTMLModel",
            "_view_count": null,
            "_view_module": "@jupyter-widgets/controls",
            "_view_module_version": "1.5.0",
            "_view_name": "HTMLView",
            "description": "",
            "description_tooltip": null,
            "layout": "IPY_MODEL_338a4e4505b347d3a0c5e18bc5d35fb1",
            "placeholder": "​",
            "style": "IPY_MODEL_4cf6d18fc56249958835459a271c10ba",
            "value": "model.safetensors: 100%"
          }
        },
        "2935bcda938048718b89a2661a7c513e": {
          "model_module": "@jupyter-widgets/controls",
          "model_module_version": "1.5.0",
          "model_name": "DescriptionStyleModel",
          "state": {
            "_model_module": "@jupyter-widgets/controls",
            "_model_module_version": "1.5.0",
            "_model_name": "DescriptionStyleModel",
            "_view_count": null,
            "_view_module": "@jupyter-widgets/base",
            "_view_module_version": "1.2.0",
            "_view_name": "StyleView",
            "description_width": ""
          }
        },
        "338a4e4505b347d3a0c5e18bc5d35fb1": {
          "model_module": "@jupyter-widgets/base",
          "model_module_version": "1.2.0",
          "model_name": "LayoutModel",
          "state": {
            "_model_module": "@jupyter-widgets/base",
            "_model_module_version": "1.2.0",
            "_model_name": "LayoutModel",
            "_view_count": null,
            "_view_module": "@jupyter-widgets/base",
            "_view_module_version": "1.2.0",
            "_view_name": "LayoutView",
            "align_content": null,
            "align_items": null,
            "align_self": null,
            "border": null,
            "bottom": null,
            "display": null,
            "flex": null,
            "flex_flow": null,
            "grid_area": null,
            "grid_auto_columns": null,
            "grid_auto_flow": null,
            "grid_auto_rows": null,
            "grid_column": null,
            "grid_gap": null,
            "grid_row": null,
            "grid_template_areas": null,
            "grid_template_columns": null,
            "grid_template_rows": null,
            "height": null,
            "justify_content": null,
            "justify_items": null,
            "left": null,
            "margin": null,
            "max_height": null,
            "max_width": null,
            "min_height": null,
            "min_width": null,
            "object_fit": null,
            "object_position": null,
            "order": null,
            "overflow": null,
            "overflow_x": null,
            "overflow_y": null,
            "padding": null,
            "right": null,
            "top": null,
            "visibility": null,
            "width": null
          }
        },
        "33cb19f72480479bb61aa62aadcc1da7": {
          "model_module": "@jupyter-widgets/controls",
          "model_module_version": "1.5.0",
          "model_name": "FloatProgressModel",
          "state": {
            "_dom_classes": [],
            "_model_module": "@jupyter-widgets/controls",
            "_model_module_version": "1.5.0",
            "_model_name": "FloatProgressModel",
            "_view_count": null,
            "_view_module": "@jupyter-widgets/controls",
            "_view_module_version": "1.5.0",
            "_view_name": "ProgressView",
            "bar_style": "success",
            "description": "",
            "description_tooltip": null,
            "layout": "IPY_MODEL_8c78486573ee4c4c8300e598fd04a2bd",
            "max": 1469,
            "min": 0,
            "orientation": "horizontal",
            "style": "IPY_MODEL_3ff90c7619d14d999a4dc2bb93b3f321",
            "value": 1469
          }
        },
        "385730c57df84423869e2a07e91e6656": {
          "model_module": "@jupyter-widgets/controls",
          "model_module_version": "1.5.0",
          "model_name": "ProgressStyleModel",
          "state": {
            "_model_module": "@jupyter-widgets/controls",
            "_model_module_version": "1.5.0",
            "_model_name": "ProgressStyleModel",
            "_view_count": null,
            "_view_module": "@jupyter-widgets/base",
            "_view_module_version": "1.2.0",
            "_view_name": "StyleView",
            "bar_color": null,
            "description_width": ""
          }
        },
        "398df8ed401c4230befc0d614366f2a2": {
          "model_module": "@jupyter-widgets/controls",
          "model_module_version": "1.5.0",
          "model_name": "HBoxModel",
          "state": {
            "_dom_classes": [],
            "_model_module": "@jupyter-widgets/controls",
            "_model_module_version": "1.5.0",
            "_model_name": "HBoxModel",
            "_view_count": null,
            "_view_module": "@jupyter-widgets/controls",
            "_view_module_version": "1.5.0",
            "_view_name": "HBoxView",
            "box_style": "",
            "children": [
              "IPY_MODEL_274d165559194cacab25aa9a7a98ff4f",
              "IPY_MODEL_cad6726de50c47c49d1db4cb9330381f",
              "IPY_MODEL_08e77157728748319fad938c4dff70ee"
            ],
            "layout": "IPY_MODEL_04f8b97788cf477ea30413460518b87e"
          }
        },
        "3ff90c7619d14d999a4dc2bb93b3f321": {
          "model_module": "@jupyter-widgets/controls",
          "model_module_version": "1.5.0",
          "model_name": "ProgressStyleModel",
          "state": {
            "_model_module": "@jupyter-widgets/controls",
            "_model_module_version": "1.5.0",
            "_model_name": "ProgressStyleModel",
            "_view_count": null,
            "_view_module": "@jupyter-widgets/base",
            "_view_module_version": "1.2.0",
            "_view_name": "StyleView",
            "bar_color": null,
            "description_width": ""
          }
        },
        "4cf6d18fc56249958835459a271c10ba": {
          "model_module": "@jupyter-widgets/controls",
          "model_module_version": "1.5.0",
          "model_name": "DescriptionStyleModel",
          "state": {
            "_model_module": "@jupyter-widgets/controls",
            "_model_module_version": "1.5.0",
            "_model_name": "DescriptionStyleModel",
            "_view_count": null,
            "_view_module": "@jupyter-widgets/base",
            "_view_module_version": "1.2.0",
            "_view_name": "StyleView",
            "description_width": ""
          }
        },
        "5b5fff04f951420993b55b13a3c22297": {
          "model_module": "@jupyter-widgets/base",
          "model_module_version": "1.2.0",
          "model_name": "LayoutModel",
          "state": {
            "_model_module": "@jupyter-widgets/base",
            "_model_module_version": "1.2.0",
            "_model_name": "LayoutModel",
            "_view_count": null,
            "_view_module": "@jupyter-widgets/base",
            "_view_module_version": "1.2.0",
            "_view_name": "LayoutView",
            "align_content": null,
            "align_items": null,
            "align_self": null,
            "border": null,
            "bottom": null,
            "display": null,
            "flex": null,
            "flex_flow": null,
            "grid_area": null,
            "grid_auto_columns": null,
            "grid_auto_flow": null,
            "grid_auto_rows": null,
            "grid_column": null,
            "grid_gap": null,
            "grid_row": null,
            "grid_template_areas": null,
            "grid_template_columns": null,
            "grid_template_rows": null,
            "height": null,
            "justify_content": null,
            "justify_items": null,
            "left": null,
            "margin": null,
            "max_height": null,
            "max_width": null,
            "min_height": null,
            "min_width": null,
            "object_fit": null,
            "object_position": null,
            "order": null,
            "overflow": null,
            "overflow_x": null,
            "overflow_y": null,
            "padding": null,
            "right": null,
            "top": null,
            "visibility": null,
            "width": null
          }
        },
        "6045984ca893489485524aa256e66f30": {
          "model_module": "@jupyter-widgets/base",
          "model_module_version": "1.2.0",
          "model_name": "LayoutModel",
          "state": {
            "_model_module": "@jupyter-widgets/base",
            "_model_module_version": "1.2.0",
            "_model_name": "LayoutModel",
            "_view_count": null,
            "_view_module": "@jupyter-widgets/base",
            "_view_module_version": "1.2.0",
            "_view_name": "LayoutView",
            "align_content": null,
            "align_items": null,
            "align_self": null,
            "border": null,
            "bottom": null,
            "display": null,
            "flex": null,
            "flex_flow": null,
            "grid_area": null,
            "grid_auto_columns": null,
            "grid_auto_flow": null,
            "grid_auto_rows": null,
            "grid_column": null,
            "grid_gap": null,
            "grid_row": null,
            "grid_template_areas": null,
            "grid_template_columns": null,
            "grid_template_rows": null,
            "height": null,
            "justify_content": null,
            "justify_items": null,
            "left": null,
            "margin": null,
            "max_height": null,
            "max_width": null,
            "min_height": null,
            "min_width": null,
            "object_fit": null,
            "object_position": null,
            "order": null,
            "overflow": null,
            "overflow_x": null,
            "overflow_y": null,
            "padding": null,
            "right": null,
            "top": null,
            "visibility": null,
            "width": null
          }
        },
        "66414c4c7e4b42019d4852058c835b1f": {
          "model_module": "@jupyter-widgets/base",
          "model_module_version": "1.2.0",
          "model_name": "LayoutModel",
          "state": {
            "_model_module": "@jupyter-widgets/base",
            "_model_module_version": "1.2.0",
            "_model_name": "LayoutModel",
            "_view_count": null,
            "_view_module": "@jupyter-widgets/base",
            "_view_module_version": "1.2.0",
            "_view_name": "LayoutView",
            "align_content": null,
            "align_items": null,
            "align_self": null,
            "border": null,
            "bottom": null,
            "display": null,
            "flex": null,
            "flex_flow": null,
            "grid_area": null,
            "grid_auto_columns": null,
            "grid_auto_flow": null,
            "grid_auto_rows": null,
            "grid_column": null,
            "grid_gap": null,
            "grid_row": null,
            "grid_template_areas": null,
            "grid_template_columns": null,
            "grid_template_rows": null,
            "height": null,
            "justify_content": null,
            "justify_items": null,
            "left": null,
            "margin": null,
            "max_height": null,
            "max_width": null,
            "min_height": null,
            "min_width": null,
            "object_fit": null,
            "object_position": null,
            "order": null,
            "overflow": null,
            "overflow_x": null,
            "overflow_y": null,
            "padding": null,
            "right": null,
            "top": null,
            "visibility": null,
            "width": null
          }
        },
        "81f160dfbe0b45ceaced2c8b92e9627a": {
          "model_module": "@jupyter-widgets/controls",
          "model_module_version": "1.5.0",
          "model_name": "ProgressStyleModel",
          "state": {
            "_model_module": "@jupyter-widgets/controls",
            "_model_module_version": "1.5.0",
            "_model_name": "ProgressStyleModel",
            "_view_count": null,
            "_view_module": "@jupyter-widgets/base",
            "_view_module_version": "1.2.0",
            "_view_name": "StyleView",
            "bar_color": null,
            "description_width": ""
          }
        },
        "8c78486573ee4c4c8300e598fd04a2bd": {
          "model_module": "@jupyter-widgets/base",
          "model_module_version": "1.2.0",
          "model_name": "LayoutModel",
          "state": {
            "_model_module": "@jupyter-widgets/base",
            "_model_module_version": "1.2.0",
            "_model_name": "LayoutModel",
            "_view_count": null,
            "_view_module": "@jupyter-widgets/base",
            "_view_module_version": "1.2.0",
            "_view_name": "LayoutView",
            "align_content": null,
            "align_items": null,
            "align_self": null,
            "border": null,
            "bottom": null,
            "display": null,
            "flex": null,
            "flex_flow": null,
            "grid_area": null,
            "grid_auto_columns": null,
            "grid_auto_flow": null,
            "grid_auto_rows": null,
            "grid_column": null,
            "grid_gap": null,
            "grid_row": null,
            "grid_template_areas": null,
            "grid_template_columns": null,
            "grid_template_rows": null,
            "height": null,
            "justify_content": null,
            "justify_items": null,
            "left": null,
            "margin": null,
            "max_height": null,
            "max_width": null,
            "min_height": null,
            "min_width": null,
            "object_fit": null,
            "object_position": null,
            "order": null,
            "overflow": null,
            "overflow_x": null,
            "overflow_y": null,
            "padding": null,
            "right": null,
            "top": null,
            "visibility": null,
            "width": null
          }
        },
        "8f2f555968284b4197d94085d23d56c2": {
          "model_module": "@jupyter-widgets/base",
          "model_module_version": "1.2.0",
          "model_name": "LayoutModel",
          "state": {
            "_model_module": "@jupyter-widgets/base",
            "_model_module_version": "1.2.0",
            "_model_name": "LayoutModel",
            "_view_count": null,
            "_view_module": "@jupyter-widgets/base",
            "_view_module_version": "1.2.0",
            "_view_name": "LayoutView",
            "align_content": null,
            "align_items": null,
            "align_self": null,
            "border": null,
            "bottom": null,
            "display": null,
            "flex": null,
            "flex_flow": null,
            "grid_area": null,
            "grid_auto_columns": null,
            "grid_auto_flow": null,
            "grid_auto_rows": null,
            "grid_column": null,
            "grid_gap": null,
            "grid_row": null,
            "grid_template_areas": null,
            "grid_template_columns": null,
            "grid_template_rows": null,
            "height": null,
            "justify_content": null,
            "justify_items": null,
            "left": null,
            "margin": null,
            "max_height": null,
            "max_width": null,
            "min_height": null,
            "min_width": null,
            "object_fit": null,
            "object_position": null,
            "order": null,
            "overflow": null,
            "overflow_x": null,
            "overflow_y": null,
            "padding": null,
            "right": null,
            "top": null,
            "visibility": null,
            "width": null
          }
        },
        "997e5a8fbd634f4c9c539e30a6349af8": {
          "model_module": "@jupyter-widgets/base",
          "model_module_version": "1.2.0",
          "model_name": "LayoutModel",
          "state": {
            "_model_module": "@jupyter-widgets/base",
            "_model_module_version": "1.2.0",
            "_model_name": "LayoutModel",
            "_view_count": null,
            "_view_module": "@jupyter-widgets/base",
            "_view_module_version": "1.2.0",
            "_view_name": "LayoutView",
            "align_content": null,
            "align_items": null,
            "align_self": null,
            "border": null,
            "bottom": null,
            "display": null,
            "flex": null,
            "flex_flow": null,
            "grid_area": null,
            "grid_auto_columns": null,
            "grid_auto_flow": null,
            "grid_auto_rows": null,
            "grid_column": null,
            "grid_gap": null,
            "grid_row": null,
            "grid_template_areas": null,
            "grid_template_columns": null,
            "grid_template_rows": null,
            "height": null,
            "justify_content": null,
            "justify_items": null,
            "left": null,
            "margin": null,
            "max_height": null,
            "max_width": null,
            "min_height": null,
            "min_width": null,
            "object_fit": null,
            "object_position": null,
            "order": null,
            "overflow": null,
            "overflow_x": null,
            "overflow_y": null,
            "padding": null,
            "right": null,
            "top": null,
            "visibility": null,
            "width": null
          }
        },
        "9d7ed28510404583a184eec67c838c46": {
          "model_module": "@jupyter-widgets/base",
          "model_module_version": "1.2.0",
          "model_name": "LayoutModel",
          "state": {
            "_model_module": "@jupyter-widgets/base",
            "_model_module_version": "1.2.0",
            "_model_name": "LayoutModel",
            "_view_count": null,
            "_view_module": "@jupyter-widgets/base",
            "_view_module_version": "1.2.0",
            "_view_name": "LayoutView",
            "align_content": null,
            "align_items": null,
            "align_self": null,
            "border": null,
            "bottom": null,
            "display": null,
            "flex": null,
            "flex_flow": null,
            "grid_area": null,
            "grid_auto_columns": null,
            "grid_auto_flow": null,
            "grid_auto_rows": null,
            "grid_column": null,
            "grid_gap": null,
            "grid_row": null,
            "grid_template_areas": null,
            "grid_template_columns": null,
            "grid_template_rows": null,
            "height": null,
            "justify_content": null,
            "justify_items": null,
            "left": null,
            "margin": null,
            "max_height": null,
            "max_width": null,
            "min_height": null,
            "min_width": null,
            "object_fit": null,
            "object_position": null,
            "order": null,
            "overflow": null,
            "overflow_x": null,
            "overflow_y": null,
            "padding": null,
            "right": null,
            "top": null,
            "visibility": null,
            "width": null
          }
        },
        "9f01abcbb7654cb894a452a316bed5fa": {
          "model_module": "@jupyter-widgets/controls",
          "model_module_version": "1.5.0",
          "model_name": "HBoxModel",
          "state": {
            "_dom_classes": [],
            "_model_module": "@jupyter-widgets/controls",
            "_model_module_version": "1.5.0",
            "_model_name": "HBoxModel",
            "_view_count": null,
            "_view_module": "@jupyter-widgets/controls",
            "_view_module_version": "1.5.0",
            "_view_name": "HBoxView",
            "box_style": "",
            "children": [
              "IPY_MODEL_1a4d37c6cb8c4add8000b4243db4d7f9",
              "IPY_MODEL_eeb4c42f9c954ef8a2e00297e0324c06",
              "IPY_MODEL_1c5f8980680e49b8b68c0a78eabdf81b"
            ],
            "layout": "IPY_MODEL_ed90ef792cb54e3a9ed7a66c33fa52b5"
          }
        },
        "a775b6cace0b4c57b6bac97d4c0b87af": {
          "model_module": "@jupyter-widgets/controls",
          "model_module_version": "1.5.0",
          "model_name": "HTMLModel",
          "state": {
            "_dom_classes": [],
            "_model_module": "@jupyter-widgets/controls",
            "_model_module_version": "1.5.0",
            "_model_name": "HTMLModel",
            "_view_count": null,
            "_view_module": "@jupyter-widgets/controls",
            "_view_module_version": "1.5.0",
            "_view_name": "HTMLView",
            "description": "",
            "description_tooltip": null,
            "layout": "IPY_MODEL_997e5a8fbd634f4c9c539e30a6349af8",
            "placeholder": "​",
            "style": "IPY_MODEL_c3e58a6fcd8e49689ca736d28d2176bb",
            "value": "config.json: 100%"
          }
        },
        "b0fc2ea20bd14a549a129f4f607ba745": {
          "model_module": "@jupyter-widgets/base",
          "model_module_version": "1.2.0",
          "model_name": "LayoutModel",
          "state": {
            "_model_module": "@jupyter-widgets/base",
            "_model_module_version": "1.2.0",
            "_model_name": "LayoutModel",
            "_view_count": null,
            "_view_module": "@jupyter-widgets/base",
            "_view_module_version": "1.2.0",
            "_view_name": "LayoutView",
            "align_content": null,
            "align_items": null,
            "align_self": null,
            "border": null,
            "bottom": null,
            "display": null,
            "flex": null,
            "flex_flow": null,
            "grid_area": null,
            "grid_auto_columns": null,
            "grid_auto_flow": null,
            "grid_auto_rows": null,
            "grid_column": null,
            "grid_gap": null,
            "grid_row": null,
            "grid_template_areas": null,
            "grid_template_columns": null,
            "grid_template_rows": null,
            "height": null,
            "justify_content": null,
            "justify_items": null,
            "left": null,
            "margin": null,
            "max_height": null,
            "max_width": null,
            "min_height": null,
            "min_width": null,
            "object_fit": null,
            "object_position": null,
            "order": null,
            "overflow": null,
            "overflow_x": null,
            "overflow_y": null,
            "padding": null,
            "right": null,
            "top": null,
            "visibility": null,
            "width": null
          }
        },
        "b728e1c5694c47c6be699bebb44fac83": {
          "model_module": "@jupyter-widgets/controls",
          "model_module_version": "1.5.0",
          "model_name": "DescriptionStyleModel",
          "state": {
            "_model_module": "@jupyter-widgets/controls",
            "_model_module_version": "1.5.0",
            "_model_name": "DescriptionStyleModel",
            "_view_count": null,
            "_view_module": "@jupyter-widgets/base",
            "_view_module_version": "1.2.0",
            "_view_name": "StyleView",
            "description_width": ""
          }
        },
        "c3e58a6fcd8e49689ca736d28d2176bb": {
          "model_module": "@jupyter-widgets/controls",
          "model_module_version": "1.5.0",
          "model_name": "DescriptionStyleModel",
          "state": {
            "_model_module": "@jupyter-widgets/controls",
            "_model_module_version": "1.5.0",
            "_model_name": "DescriptionStyleModel",
            "_view_count": null,
            "_view_module": "@jupyter-widgets/base",
            "_view_module_version": "1.2.0",
            "_view_name": "StyleView",
            "description_width": ""
          }
        },
        "cad6726de50c47c49d1db4cb9330381f": {
          "model_module": "@jupyter-widgets/controls",
          "model_module_version": "1.5.0",
          "model_name": "FloatProgressModel",
          "state": {
            "_dom_classes": [],
            "_model_module": "@jupyter-widgets/controls",
            "_model_module_version": "1.5.0",
            "_model_name": "FloatProgressModel",
            "_view_count": null,
            "_view_module": "@jupyter-widgets/controls",
            "_view_module_version": "1.5.0",
            "_view_name": "ProgressView",
            "bar_style": "success",
            "description": "",
            "description_tooltip": null,
            "layout": "IPY_MODEL_5b5fff04f951420993b55b13a3c22297",
            "max": 46807446,
            "min": 0,
            "orientation": "horizontal",
            "style": "IPY_MODEL_385730c57df84423869e2a07e91e6656",
            "value": 46807446
          }
        },
        "d0ace648785b4c04a626b73d9edea171": {
          "model_module": "@jupyter-widgets/controls",
          "model_module_version": "1.5.0",
          "model_name": "HTMLModel",
          "state": {
            "_dom_classes": [],
            "_model_module": "@jupyter-widgets/controls",
            "_model_module_version": "1.5.0",
            "_model_name": "HTMLModel",
            "_view_count": null,
            "_view_module": "@jupyter-widgets/controls",
            "_view_module_version": "1.5.0",
            "_view_name": "HTMLView",
            "description": "",
            "description_tooltip": null,
            "layout": "IPY_MODEL_8f2f555968284b4197d94085d23d56c2",
            "placeholder": "​",
            "style": "IPY_MODEL_1dd8cd2ea485487f8afaf3f968ac81dc",
            "value": " 1.47k/1.47k [00:00&lt;00:00, 145kB/s]"
          }
        },
        "e4a3cf4d468e49a8ac00e46639b4ba7a": {
          "model_module": "@jupyter-widgets/controls",
          "model_module_version": "1.5.0",
          "model_name": "DescriptionStyleModel",
          "state": {
            "_model_module": "@jupyter-widgets/controls",
            "_model_module_version": "1.5.0",
            "_model_name": "DescriptionStyleModel",
            "_view_count": null,
            "_view_module": "@jupyter-widgets/base",
            "_view_module_version": "1.2.0",
            "_view_name": "StyleView",
            "description_width": ""
          }
        },
        "ed90ef792cb54e3a9ed7a66c33fa52b5": {
          "model_module": "@jupyter-widgets/base",
          "model_module_version": "1.2.0",
          "model_name": "LayoutModel",
          "state": {
            "_model_module": "@jupyter-widgets/base",
            "_model_module_version": "1.2.0",
            "_model_name": "LayoutModel",
            "_view_count": null,
            "_view_module": "@jupyter-widgets/base",
            "_view_module_version": "1.2.0",
            "_view_name": "LayoutView",
            "align_content": null,
            "align_items": null,
            "align_self": null,
            "border": null,
            "bottom": null,
            "display": null,
            "flex": null,
            "flex_flow": null,
            "grid_area": null,
            "grid_auto_columns": null,
            "grid_auto_flow": null,
            "grid_auto_rows": null,
            "grid_column": null,
            "grid_gap": null,
            "grid_row": null,
            "grid_template_areas": null,
            "grid_template_columns": null,
            "grid_template_rows": null,
            "height": null,
            "justify_content": null,
            "justify_items": null,
            "left": null,
            "margin": null,
            "max_height": null,
            "max_width": null,
            "min_height": null,
            "min_width": null,
            "object_fit": null,
            "object_position": null,
            "order": null,
            "overflow": null,
            "overflow_x": null,
            "overflow_y": null,
            "padding": null,
            "right": null,
            "top": null,
            "visibility": null,
            "width": null
          }
        },
        "eeb4c42f9c954ef8a2e00297e0324c06": {
          "model_module": "@jupyter-widgets/controls",
          "model_module_version": "1.5.0",
          "model_name": "FloatProgressModel",
          "state": {
            "_dom_classes": [],
            "_model_module": "@jupyter-widgets/controls",
            "_model_module_version": "1.5.0",
            "_model_name": "FloatProgressModel",
            "_view_count": null,
            "_view_module": "@jupyter-widgets/controls",
            "_view_module_version": "1.5.0",
            "_view_name": "ProgressView",
            "bar_style": "success",
            "description": "",
            "description_tooltip": null,
            "layout": "IPY_MODEL_66414c4c7e4b42019d4852058c835b1f",
            "max": 115434268,
            "min": 0,
            "orientation": "horizontal",
            "style": "IPY_MODEL_81f160dfbe0b45ceaced2c8b92e9627a",
            "value": 115434268
          }
        }
      }
    }
  },
  "nbformat": 4,
  "nbformat_minor": 5
}
